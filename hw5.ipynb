{
 "cells": [
  {
   "cell_type": "markdown",
   "metadata": {},
   "source": [
    "\n",
    "### Задача 3\n",
    "В файле experiment.csv сохранены результаты эксперимента, описанного в задаче \n",
    "Данные пред- ставляют собой последовательности из 0 и 1, где 1 соответствуют людям, которые захотели выбрать кофе с измененным дизайном этикетки, а 0 - людям, которые не захотели.\n",
    "Описание данных:\n",
    "test: результаты по тестовой группе (людям предлагали кофе с новым дизайном этикетки); control: контрольная группа (людям предлагали кофе со старым дизайном этикетки).\n",
    "\n",
    "\n",
    "\n"
   ]
  },
  {
   "cell_type": "markdown",
   "metadata": {},
   "source": [
    "1. Загрузите данные из файла experiment.csv, используя Python"
   ]
  },
  {
   "cell_type": "code",
   "execution_count": 1,
   "metadata": {},
   "outputs": [],
   "source": [
    "import pandas as pd\n",
    "import numpy as np\n",
    "import scipy.stats as st\n",
    "import statsmodels.stats.api as stm\n",
    "import matplotlib.pyplot as plt\n",
    "import numpy as np"
   ]
  },
  {
   "cell_type": "code",
   "execution_count": 2,
   "metadata": {},
   "outputs": [
    {
     "data": {
      "text/html": [
       "<div>\n",
       "<style scoped>\n",
       "    .dataframe tbody tr th:only-of-type {\n",
       "        vertical-align: middle;\n",
       "    }\n",
       "\n",
       "    .dataframe tbody tr th {\n",
       "        vertical-align: top;\n",
       "    }\n",
       "\n",
       "    .dataframe thead th {\n",
       "        text-align: right;\n",
       "    }\n",
       "</style>\n",
       "<table border=\"1\" class=\"dataframe\">\n",
       "  <thead>\n",
       "    <tr style=\"text-align: right;\">\n",
       "      <th></th>\n",
       "      <th>control</th>\n",
       "      <th>test</th>\n",
       "    </tr>\n",
       "  </thead>\n",
       "  <tbody>\n",
       "    <tr>\n",
       "      <th>1</th>\n",
       "      <td>0</td>\n",
       "      <td>0</td>\n",
       "    </tr>\n",
       "    <tr>\n",
       "      <th>2</th>\n",
       "      <td>1</td>\n",
       "      <td>1</td>\n",
       "    </tr>\n",
       "    <tr>\n",
       "      <th>3</th>\n",
       "      <td>0</td>\n",
       "      <td>0</td>\n",
       "    </tr>\n",
       "    <tr>\n",
       "      <th>4</th>\n",
       "      <td>0</td>\n",
       "      <td>0</td>\n",
       "    </tr>\n",
       "    <tr>\n",
       "      <th>5</th>\n",
       "      <td>0</td>\n",
       "      <td>0</td>\n",
       "    </tr>\n",
       "    <tr>\n",
       "      <th>...</th>\n",
       "      <td>...</td>\n",
       "      <td>...</td>\n",
       "    </tr>\n",
       "    <tr>\n",
       "      <th>996</th>\n",
       "      <td>0</td>\n",
       "      <td>1</td>\n",
       "    </tr>\n",
       "    <tr>\n",
       "      <th>997</th>\n",
       "      <td>1</td>\n",
       "      <td>0</td>\n",
       "    </tr>\n",
       "    <tr>\n",
       "      <th>998</th>\n",
       "      <td>0</td>\n",
       "      <td>1</td>\n",
       "    </tr>\n",
       "    <tr>\n",
       "      <th>999</th>\n",
       "      <td>1</td>\n",
       "      <td>1</td>\n",
       "    </tr>\n",
       "    <tr>\n",
       "      <th>1000</th>\n",
       "      <td>1</td>\n",
       "      <td>1</td>\n",
       "    </tr>\n",
       "  </tbody>\n",
       "</table>\n",
       "<p>1000 rows × 2 columns</p>\n",
       "</div>"
      ],
      "text/plain": [
       "      control  test\n",
       "1           0     0\n",
       "2           1     1\n",
       "3           0     0\n",
       "4           0     0\n",
       "5           0     0\n",
       "...       ...   ...\n",
       "996         0     1\n",
       "997         1     0\n",
       "998         0     1\n",
       "999         1     1\n",
       "1000        1     1\n",
       "\n",
       "[1000 rows x 2 columns]"
      ]
     },
     "execution_count": 2,
     "metadata": {},
     "output_type": "execute_result"
    }
   ],
   "source": [
    "df_experiment = pd.read_csv('experiment.csv', index_col = 0)\n",
    "df_experiment"
   ]
  },
  {
   "cell_type": "markdown",
   "metadata": {},
   "source": [
    "2. Постройте, используя Python, 90%-ный доверительный интервал для доли людей, которые захотели купить кофе,\n",
    "    в тестовой группе. Проинтерпретируйте полученный доверительный интервал.\n",
    "    В решении приведите используемый код, границы доверительного интервала и текст с интерпре- тацией."
   ]
  },
  {
   "cell_type": "code",
   "execution_count": 3,
   "metadata": {},
   "outputs": [
    {
     "data": {
      "text/plain": [
       "(0.5513028270740822, 0.6026971729259177)"
      ]
     },
     "execution_count": 3,
     "metadata": {},
     "output_type": "execute_result"
    }
   ],
   "source": [
    "n = len(df_experiment)\n",
    "p = sum(df_experiment.test) / n\n",
    "se = (p * (1 - p) / n) ** 0.5\n",
    "test_conf_inter = st.norm.interval(alpha = 0.9, loc = p, scale = se)\n",
    "test_conf_inter"
   ]
  },
  {
   "cell_type": "markdown",
   "metadata": {},
   "source": [
    "*Полученный результат позволяет нам сделать вывод, что с уверенностью в 90 % доля людей, выбирающих кофе в новой упаковке, среди всех покупателей кофе, находится в интервале от 0.55 до 0.60. Если мы будем проводить подобное исследование, при том же объеме выборки много раз, то в 90% доверительных интервалов будут включать истинное значение доли людей, выбирающих новую упаковку.*"
   ]
  },
  {
   "cell_type": "markdown",
   "metadata": {},
   "source": [
    "3. Постройте, используя Python, доверительный интервал для доли людей, которые захотели купить кофе, в контрольной группе. Проинтерпретируйте полученный доверительный интервал.\n",
    "    В решении приведите используемый код, границы доверительного интервала и текст с интерпретацией."
   ]
  },
  {
   "cell_type": "code",
   "execution_count": 4,
   "metadata": {},
   "outputs": [
    {
     "data": {
      "text/plain": [
       "(0.4380600794294326, 0.4899399205705674)"
      ]
     },
     "execution_count": 4,
     "metadata": {},
     "output_type": "execute_result"
    }
   ],
   "source": [
    "n = len(df_experiment)\n",
    "p = sum(df_experiment.control) / n\n",
    "se = (p * (1 - p) / n) ** 0.5\n",
    "contrl_conf_inter = st.norm.interval(alpha = 0.9, loc = p, scale = se)\n",
    "contrl_conf_inter"
   ]
  },
  {
   "cell_type": "markdown",
   "metadata": {},
   "source": [
    "*C уверенностью в 90 % можем сказать, что доля людей, выбирающих кофе в старой упаковке, среди всех покупателей кофе находится в интервале от 0.44 до 0.49. Если мы будем проводить аналогичные исследования независимо друг от друга на многочисленных выборках того же размера, то 90% доверительных интервалов будут включать в себя истинное значение доли желающих купить кофе в старой упаковке*"
   ]
  },
  {
   "cell_type": "markdown",
   "metadata": {},
   "source": [
    "4. Сравните полученные доверительные интервалы для тестовой и контрольной группы. Можно ли на основании полученных результатов сделать определенный вывод о том, что новый дизайн этикетки лучше (привлекает больше потенциальных покупателей)? Приведите ваши выводы и объяснения."
   ]
  },
  {
   "cell_type": "markdown",
   "metadata": {},
   "source": [
    "*Доверительные интервалы не пересекаются. Это значит, что есть существенная разница между дизайнами упаковок.*"
   ]
  },
  {
   "cell_type": "code",
   "execution_count": 26,
   "metadata": {},
   "outputs": [
    {
     "data": {
      "image/png": "[encoded data removed]",
      "text/plain": [
       "<Figure size 864x432 with 1 Axes>"
      ]
     },
     "metadata": {
      "needs_background": "light"
     },
     "output_type": "display_data"
    }
   ],
   "source": [
    "figure, ax = plt.subplots(figsize = (12, 6))\n",
    "ax.plot(list(test_conf_inter), [0, 0], label = 'Тестовая группа', linewidth = 5, color = 'lightgreen')\n",
    "ax.plot(list(contrl_conf_inter), [0, 0], label = 'Контрольная группа', linewidth = 5, color = 'lightblue')\n",
    "ax.set_title('Доверительные интервалы', size = 14)\n",
    "ax.set_xlabel('Доля', size = 12)\n",
    "ax.legend()\n",
    "plt.grid()\n"
   ]
  }
 ],
 "metadata": {
  "kernelspec": {
   "display_name": "Python 3",
   "language": "python",
   "name": "python3"
  },
  "language_info": {
   "codemirror_mode": {
    "name": "ipython",
    "version": 3
   },
   "file_extension": ".py",
   "mimetype": "text/x-python",
   "name": "python",
   "nbconvert_exporter": "python",
   "pygments_lexer": "ipython3",
   "version": "3.8.5"
  }
 },
 "nbformat": 4,
 "nbformat_minor": 4
}
