{
 "cells": [
  {
   "cell_type": "code",
   "execution_count": 26,
   "id": "2b523dee",
   "metadata": {},
   "outputs": [],
   "source": [
    "import pandas as pd\n",
    "from statsmodels.stats.proportion import proportions_ztest"
   ]
  },
  {
   "cell_type": "markdown",
   "id": "eeb9a247",
   "metadata": {},
   "source": [
    "1. Загрузите данные из файла parfume.csv в датафрейм parf (используйте библиотеку pandas).\n"
   ]
  },
  {
   "cell_type": "code",
   "execution_count": 20,
   "id": "521673ee",
   "metadata": {},
   "outputs": [
    {
     "data": {
      "text/html": [
       "<div>\n",
       "<style scoped>\n",
       "    .dataframe tbody tr th:only-of-type {\n",
       "        vertical-align: middle;\n",
       "    }\n",
       "\n",
       "    .dataframe tbody tr th {\n",
       "        vertical-align: top;\n",
       "    }\n",
       "\n",
       "    .dataframe thead th {\n",
       "        text-align: right;\n",
       "    }\n",
       "</style>\n",
       "<table border=\"1\" class=\"dataframe\">\n",
       "  <thead>\n",
       "    <tr style=\"text-align: right;\">\n",
       "      <th></th>\n",
       "      <th>Unnamed: 0</th>\n",
       "      <th>X</th>\n",
       "      <th>id</th>\n",
       "      <th>age</th>\n",
       "      <th>group</th>\n",
       "      <th>vote</th>\n",
       "    </tr>\n",
       "  </thead>\n",
       "  <tbody>\n",
       "    <tr>\n",
       "      <th>0</th>\n",
       "      <td>1</td>\n",
       "      <td>1</td>\n",
       "      <td>1</td>\n",
       "      <td>21</td>\n",
       "      <td>control</td>\n",
       "      <td>1</td>\n",
       "    </tr>\n",
       "    <tr>\n",
       "      <th>1</th>\n",
       "      <td>2</td>\n",
       "      <td>2</td>\n",
       "      <td>2</td>\n",
       "      <td>20</td>\n",
       "      <td>control</td>\n",
       "      <td>1</td>\n",
       "    </tr>\n",
       "    <tr>\n",
       "      <th>2</th>\n",
       "      <td>3</td>\n",
       "      <td>3</td>\n",
       "      <td>3</td>\n",
       "      <td>22</td>\n",
       "      <td>control</td>\n",
       "      <td>2</td>\n",
       "    </tr>\n",
       "    <tr>\n",
       "      <th>3</th>\n",
       "      <td>4</td>\n",
       "      <td>4</td>\n",
       "      <td>4</td>\n",
       "      <td>18</td>\n",
       "      <td>control</td>\n",
       "      <td>1</td>\n",
       "    </tr>\n",
       "    <tr>\n",
       "      <th>4</th>\n",
       "      <td>5</td>\n",
       "      <td>5</td>\n",
       "      <td>5</td>\n",
       "      <td>23</td>\n",
       "      <td>control</td>\n",
       "      <td>0</td>\n",
       "    </tr>\n",
       "  </tbody>\n",
       "</table>\n",
       "</div>"
      ],
      "text/plain": [
       "   Unnamed: 0  X  id  age    group  vote\n",
       "0           1  1   1   21  control     1\n",
       "1           2  2   2   20  control     1\n",
       "2           3  3   3   22  control     2\n",
       "3           4  4   4   18  control     1\n",
       "4           5  5   5   23  control     0"
      ]
     },
     "execution_count": 20,
     "metadata": {},
     "output_type": "execute_result"
    }
   ],
   "source": [
    "df_parf = pd.read_csv('parfume.csv')\n",
    "df_parf.head()"
   ]
  },
  {
   "cell_type": "markdown",
   "id": "50bb45b5",
   "metadata": {},
   "source": [
    "2. Оставьте в датафрейме только те строки, которые соответствуют девушкам, предоставившим ответ на вопрос о решении купить/не купить парфюмерную воду. В последующих заданиях необходимо работать с обновленным датафреймом.\n"
   ]
  },
  {
   "cell_type": "code",
   "execution_count": 21,
   "id": "20d8efd6",
   "metadata": {},
   "outputs": [
    {
     "data": {
      "text/html": [
       "<div>\n",
       "<style scoped>\n",
       "    .dataframe tbody tr th:only-of-type {\n",
       "        vertical-align: middle;\n",
       "    }\n",
       "\n",
       "    .dataframe tbody tr th {\n",
       "        vertical-align: top;\n",
       "    }\n",
       "\n",
       "    .dataframe thead th {\n",
       "        text-align: right;\n",
       "    }\n",
       "</style>\n",
       "<table border=\"1\" class=\"dataframe\">\n",
       "  <thead>\n",
       "    <tr style=\"text-align: right;\">\n",
       "      <th></th>\n",
       "      <th>Unnamed: 0</th>\n",
       "      <th>X</th>\n",
       "      <th>id</th>\n",
       "      <th>age</th>\n",
       "      <th>group</th>\n",
       "      <th>vote</th>\n",
       "    </tr>\n",
       "  </thead>\n",
       "  <tbody>\n",
       "    <tr>\n",
       "      <th>0</th>\n",
       "      <td>1</td>\n",
       "      <td>1</td>\n",
       "      <td>1</td>\n",
       "      <td>21</td>\n",
       "      <td>control</td>\n",
       "      <td>1</td>\n",
       "    </tr>\n",
       "    <tr>\n",
       "      <th>1</th>\n",
       "      <td>2</td>\n",
       "      <td>2</td>\n",
       "      <td>2</td>\n",
       "      <td>20</td>\n",
       "      <td>control</td>\n",
       "      <td>1</td>\n",
       "    </tr>\n",
       "    <tr>\n",
       "      <th>3</th>\n",
       "      <td>4</td>\n",
       "      <td>4</td>\n",
       "      <td>4</td>\n",
       "      <td>18</td>\n",
       "      <td>control</td>\n",
       "      <td>1</td>\n",
       "    </tr>\n",
       "    <tr>\n",
       "      <th>4</th>\n",
       "      <td>5</td>\n",
       "      <td>5</td>\n",
       "      <td>5</td>\n",
       "      <td>23</td>\n",
       "      <td>control</td>\n",
       "      <td>0</td>\n",
       "    </tr>\n",
       "    <tr>\n",
       "      <th>5</th>\n",
       "      <td>6</td>\n",
       "      <td>6</td>\n",
       "      <td>6</td>\n",
       "      <td>18</td>\n",
       "      <td>control</td>\n",
       "      <td>1</td>\n",
       "    </tr>\n",
       "  </tbody>\n",
       "</table>\n",
       "</div>"
      ],
      "text/plain": [
       "   Unnamed: 0  X  id  age    group  vote\n",
       "0           1  1   1   21  control     1\n",
       "1           2  2   2   20  control     1\n",
       "3           4  4   4   18  control     1\n",
       "4           5  5   5   23  control     0\n",
       "5           6  6   6   18  control     1"
      ]
     },
     "execution_count": 21,
     "metadata": {},
     "output_type": "execute_result"
    }
   ],
   "source": [
    "df_parf = df_parf[df_parf.vote != 2]\n",
    "df_parf.head()"
   ]
  },
  {
   "cell_type": "markdown",
   "id": "d9335202",
   "metadata": {},
   "source": [
    "3. Сохраните в датафрейм test строки, соответствующие девушкам из тестовой группы, а в дата- фрейм control — девушкам из контрольной группы.\n"
   ]
  },
  {
   "cell_type": "code",
   "execution_count": 27,
   "id": "8454abf2",
   "metadata": {},
   "outputs": [
    {
     "data": {
      "text/plain": [
       "77"
      ]
     },
     "execution_count": 27,
     "metadata": {},
     "output_type": "execute_result"
    }
   ],
   "source": [
    "test = df_parf[df_parf.group == 'test']['vote']\n",
    "control = df_parf[df_parf.group == 'control']['vote']"
   ]
  },
  {
   "cell_type": "markdown",
   "id": "d0d1282f",
   "metadata": {},
   "source": [
    "4. Посчитайте на основе датафреймов test и control значения, необходимые для проверки гипотезы о равенстве долей с помощью функции proportions_ztest.\n"
   ]
  },
  {
   "cell_type": "code",
   "execution_count": 30,
   "id": "a7c57135",
   "metadata": {},
   "outputs": [],
   "source": [
    "n = len(test)\n",
    "ns_test = sum(test)\n",
    "ns_control = sum(control)"
   ]
  },
  {
   "cell_type": "markdown",
   "id": "b4b978cf",
   "metadata": {},
   "source": [
    "5. Проверьте гипотезу о равенстве долей с помощью функции proportions_ztest, учитывая, что альтернативная гипотеза является односторонней. Сделайте статистический вывод на основе полученного p-value, приняв уровень значимости равным 5% (отвергается или не отвергается нулевая гипотеза). Сделайте содержательный вывод о выборе рекламного ролика (какой из вариантов лучше)."
   ]
  },
  {
   "cell_type": "code",
   "execution_count": 31,
   "id": "c39a96b2",
   "metadata": {},
   "outputs": [
    {
     "name": "stdout",
     "output_type": "stream",
     "text": [
      "stats:  4.2903030695413324 p-value:  8.92147245634709e-06\n"
     ]
    }
   ],
   "source": [
    "stats, p_value = proportions_ztest((ns_test, ns_control), (n, n))\n",
    "print('stats: ', stats, 'p-value: ', p_value/2)"
   ]
  },
  {
   "cell_type": "markdown",
   "id": "dfbe1f78",
   "metadata": {},
   "source": [
    "Так как p-value очень близок к нулю, на уровне значимости 5% мы можем сделать вывод, что доля желающих купить парфюм после просмотра чернобелой рекламы выше чем после просмотра цветной. На уровне значимости 5% мы отвергаем нулевую гипотезу на имеющихся данных  \n",
    "\n",
    "Содержательный вывод: Доля желающих купить парфюм после просмотра чернобелой рекламы выше, чем после цветного ролика. "
   ]
  }
 ],
 "metadata": {
  "kernelspec": {
   "display_name": "Python 3 (ipykernel)",
   "language": "python",
   "name": "python3"
  },
  "language_info": {
   "codemirror_mode": {
    "name": "ipython",
    "version": 3
   },
   "file_extension": ".py",
   "mimetype": "text/x-python",
   "name": "python",
   "nbconvert_exporter": "python",
   "pygments_lexer": "ipython3",
   "version": "3.9.13"
  }
 },
 "nbformat": 4,
 "nbformat_minor": 5
}
