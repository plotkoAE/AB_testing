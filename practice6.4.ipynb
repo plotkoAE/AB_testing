{
 "cells": [
  {
   "cell_type": "markdown",
   "metadata": {},
   "source": [
    "1. Используя Python, реализуйте бутстрэп с числом итераций N=1500 для проверки гипотезы об отсутствии различий в значениях конверсии. При подсчете p-value не забудьте про центрирование, которое было описано в части 1.\n",
    "\n",
    "\n",
    "*Подсказка: схема реализации алгоритма на Python такая же, как и в R, только вместо вектора перед циклом нужно создать одномерный массив NumPy из пропущенных значений или нулей. Для случайного выбора значений используйте функцию choices() из модуля random.*\n",
    "\n",
    "Пример:"
   ]
  },
  {
   "cell_type": "code",
   "execution_count": 1,
   "metadata": {},
   "outputs": [
    {
     "data": {
      "text/plain": [
       "[6, 6]"
      ]
     },
     "execution_count": 1,
     "metadata": {},
     "output_type": "execute_result"
    }
   ],
   "source": [
    "import random\n",
    "random.choices([1, 3, 5, 6], k=2)  # выбор 2х элементов из списка"
   ]
  },
  {
   "cell_type": "code",
   "execution_count": 2,
   "metadata": {},
   "outputs": [],
   "source": [
    "import random\n",
    "import numpy as np\n",
    "import pandas as pd\n",
    "import matplotlib.pyplot as plt"
   ]
  },
  {
   "cell_type": "code",
   "execution_count": 3,
   "metadata": {},
   "outputs": [
    {
     "data": {
      "text/plain": [
       "800"
      ]
     },
     "execution_count": 3,
     "metadata": {},
     "output_type": "execute_result"
    }
   ],
   "source": [
    "df = pd.read_csv('conversion.csv', index_col = 0)\n",
    "\n",
    "range_len = len(df)\n",
    "range_len"
   ]
  },
  {
   "cell_type": "code",
   "execution_count": 4,
   "metadata": {},
   "outputs": [
    {
     "data": {
      "text/plain": [
       "0.6325"
      ]
     },
     "execution_count": 4,
     "metadata": {},
     "output_type": "execute_result"
    }
   ],
   "source": [
    "p = df['NEW'].mean() - df['OLD'].mean()\n",
    "p\n"
   ]
  },
  {
   "cell_type": "code",
   "execution_count": 5,
   "metadata": {},
   "outputs": [
    {
     "data": {
      "text/plain": [
       "array([0.63   , 0.66875, 0.62   , ..., 0.64375, 0.64   , 0.64625])"
      ]
     },
     "execution_count": 5,
     "metadata": {},
     "output_type": "execute_result"
    }
   ],
   "source": [
    "np.random.seed(19680801)\n",
    "N = 1500\n",
    "differences = np.array(np.zeros(N))\n",
    "for i in range(0, N):\n",
    "    s1 = random.choices(list(df['OLD']), k = len(df['OLD']))\n",
    "    s2 = random.choices(list(df['NEW']), k = len(df['NEW']))\n",
    "    p1 = sum(s1) / len(s1)\n",
    "    p2 = sum(s2) / len(s2)\n",
    "    differences[i] = p2 - p1\n",
    "\n",
    "differences"
   ]
  },
  {
   "cell_type": "code",
   "execution_count": 6,
   "metadata": {},
   "outputs": [
    {
     "data": {
      "text/plain": [
       "0.0"
      ]
     },
     "execution_count": 6,
     "metadata": {},
     "output_type": "execute_result"
    }
   ],
   "source": [
    "differences = differences - differences.mean()\n",
    "p_value = sum(differences >= p) / N\n",
    "p_value"
   ]
  },
  {
   "cell_type": "code",
   "execution_count": 17,
   "metadata": {},
   "outputs": [
    {
     "data": {
      "text/plain": [
       "<matplotlib.lines.Line2D at 0x7ff1892b0820>"
      ]
     },
     "execution_count": 17,
     "metadata": {},
     "output_type": "execute_result"
    },
    {
     "data": {
      "image/png": "[encoded data removed]",
      "text/plain": [
       "<Figure size 640x480 with 1 Axes>"
      ]
     },
     "metadata": {},
     "output_type": "display_data"
    }
   ],
   "source": [
    "plt.hist(differences, color = 'lightblue')\n",
    "plt.axvline(p_value, color = 'green')"
   ]
  },
  {
   "cell_type": "markdown",
   "metadata": {},
   "source": [
    "2. Сравните результаты, полученные в R и Python (они могут отличаться – работает случайность выбора). \n",
    "\n",
    "Сделайте выводы о том, правда ли, что новый дизайн сайта лучше старого."
   ]
  },
  {
   "cell_type": "markdown",
   "metadata": {},
   "source": [
    "Результаты R и Python различаются не значительно. Мы можем сделать вывод о том, что новый дизайн сайта лучше старого. "
   ]
  },
  {
   "cell_type": "markdown",
   "metadata": {},
   "source": [
    "\n",
    "На уровне значимости 5% мы можем заключить, что разница в конверсии на новом и старом сайте есть. Мы опровергли нашу нулевую гипотезу. "
   ]
  }
 ],
 "metadata": {
  "kernelspec": {
   "display_name": "Python 3 (ipykernel)",
   "language": "python",
   "name": "python3"
  },
  "language_info": {
   "codemirror_mode": {
    "name": "ipython",
    "version": 3
   },
   "file_extension": ".py",
   "mimetype": "text/x-python",
   "name": "python",
   "nbconvert_exporter": "python",
   "pygments_lexer": "ipython3",
   "version": "3.9.13"
  }
 },
 "nbformat": 4,
 "nbformat_minor": 4
}
