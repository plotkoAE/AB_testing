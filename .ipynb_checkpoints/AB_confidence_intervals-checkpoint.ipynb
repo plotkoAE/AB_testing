{
 "cells": [
  {
   "cell_type": "markdown",
   "metadata": {},
   "source": [
    "## Построение доверительных интервалов в Python\n",
    "\n",
    "В Python механизм вычисления доверительного интервала немного отличается от R. Поэтому в рамках этого задания вам предлагается работать не со сводной информацией (сколько людей участвовало в эксперименте и сколько выполнили определенные действия), а с исходным массивом данных.\n",
    "\n",
    "\n",
    "Дан массив users, состоящий из 0 и 1, где 0 соответствует людям, не кликнувшим на кнопку «Оформить заказ», а 1 — людям, кликнувшим на кнопку «Оформить заказ»."
   ]
  },
  {
   "cell_type": "code",
   "execution_count": 2,
   "metadata": {},
   "outputs": [],
   "source": [
    "import numpy as np"
   ]
  },
  {
   "cell_type": "code",
   "execution_count": 3,
   "metadata": {},
   "outputs": [],
   "source": [
    "users = np.array([1, 0, 0, 0, 1, 1, 1, 0, 1])"
   ]
  },
  {
   "cell_type": "markdown",
   "metadata": {},
   "source": [
    "1. Используя Python, посчитайте и сохраните в переменную n общее число людей в группе — число элементов массива users."
   ]
  },
  {
   "cell_type": "code",
   "execution_count": 4,
   "metadata": {},
   "outputs": [
    {
     "data": {
      "text/plain": [
       "9"
      ]
     },
     "execution_count": 4,
     "metadata": {},
     "output_type": "execute_result"
    }
   ],
   "source": [
    "n = len(users)\n",
    "n"
   ]
  },
  {
   "cell_type": "markdown",
   "metadata": {},
   "source": [
    "2. Используя Python, посчитайте и сохраните в переменную **p** долю единиц в массиве users (эта та доля, на основе которой мы строим доверительный интервал)."
   ]
  },
  {
   "cell_type": "code",
   "execution_count": 32,
   "metadata": {},
   "outputs": [
    {
     "data": {
      "text/plain": [
       "0.5555555555555556"
      ]
     },
     "execution_count": 32,
     "metadata": {},
     "output_type": "execute_result"
    }
   ],
   "source": [
    "p = users.sum() / n\n",
    "p"
   ]
  },
  {
   "cell_type": "markdown",
   "metadata": {},
   "source": [
    "3. Посчитайте значение стандартной ошибки доли — показателя, который измеряет изменчивость значений в выборке, и сохраните результат в переменную se.\n",
    "\n",
    "    Стандартная ошибка показывает, насколько сильно значения в выборке отличаются от среднего значения (более формально, это оценка стандартного отклонения доли).\n",
    "    Значение стандартной ошибки зависит от доли единиц в выборке и от общего числа элементов в выборке. Считается она просто:\n",
    "\n",
    "    **se = (p(1 − p)/n) ** 1/2**\n"
   ]
  },
  {
   "cell_type": "code",
   "execution_count": 31,
   "metadata": {},
   "outputs": [
    {
     "data": {
      "text/plain": [
       "0.1654623152798781"
      ]
     },
     "execution_count": 31,
     "metadata": {},
     "output_type": "execute_result"
    }
   ],
   "source": [
    "se = (p * (1 - p) / n) ** 0.5\n",
    "se"
   ]
  },
  {
   "cell_type": "markdown",
   "metadata": {},
   "source": [
    "4. Импортируйте модуль stats из библиотеки scipy: import scipy.stats as st\n",
    "    Используйте функцию interval() из подмодуля norm для построения 95%-ного доверительного интервала для доли людей, кликнувших на кнопку «Оформить заказ».\n",
    "    \n",
    "    *Подсказка: st.norm.interval(confidence, loc, scale), где confidence — уровень доверия, loc — середина распределения, то есть интересующая нас доля, scale — показатель разброса значений, то есть стандартная ошибка доли.*\n"
   ]
  },
  {
   "cell_type": "code",
   "execution_count": 33,
   "metadata": {},
   "outputs": [
    {
     "data": {
      "text/plain": [
       "(0.23125537680838304, 0.8798557343027281)"
      ]
     },
     "execution_count": 33,
     "metadata": {},
     "output_type": "execute_result"
    }
   ],
   "source": [
    "import scipy.stats as st\n",
    "st.norm.interval(alpha=0.95, loc=p, scale=se)"
   ]
  },
  {
   "cell_type": "markdown",
   "metadata": {},
   "source": [
    "5. Проинтерпретируйте полученный доверительный интервал."
   ]
  },
  {
   "cell_type": "markdown",
   "metadata": {},
   "source": [
    "С уверенностью в 95% мы можем сказать, что доля посетителей сайта, кликнувших \"Оформить заказ\" среди всех посетителей сайта лежит в диапозоне от 0.23 до 0.87. Если мы будем проводить анологичные исследования на выборках одного и того же размера много раз, независимо друг от друга, то 95% доверительных интервалов будут включать истинное значение доли кликнувших на \"Оформить заказ\""
   ]
  },
  {
   "cell_type": "markdown",
   "metadata": {},
   "source": [
    "**Дополнение для желающих: доверительный интервал для среднего**\n",
    "\n",
    "\n",
    "1. Создайте numpy-массив ages со значениями возраста посетителей сайта, если известно, что значения такие: 23, 24, 38, 34, 36, 37, 39.\n",
    "\n",
    "\n",
    "2. Постройте 95%-ный доверительный интервал для среднего возраста посетителей сайта, используя массив ages. Проинтерпретируйте полученный доверительный интервал.\n",
    "\n",
    "    Подсказка: импортируйте необходимый модуль statsmodels.stats.api, извлеките из него функцию DescrStatsW, примените ее к массиву значений, а потом примените метод .tconfint_mean(), который выведет на экран границы доверительного интервала.\n"
   ]
  },
  {
   "cell_type": "code",
   "execution_count": 26,
   "metadata": {},
   "outputs": [],
   "source": [
    "import statsmodels.stats.api as stm\n"
   ]
  },
  {
   "cell_type": "code",
   "execution_count": 25,
   "metadata": {},
   "outputs": [
    {
     "data": {
      "text/plain": [
       "array([23, 24, 38, 34, 36, 37, 39])"
      ]
     },
     "execution_count": 25,
     "metadata": {},
     "output_type": "execute_result"
    }
   ],
   "source": [
    "ages = np.array([23, 24, 38, 34, 36, 37, 39])\n",
    "ages"
   ]
  },
  {
   "cell_type": "code",
   "execution_count": 30,
   "metadata": {},
   "outputs": [
    {
     "data": {
      "text/plain": [
       "(26.818966807619674, 39.181033192380326)"
      ]
     },
     "execution_count": 30,
     "metadata": {},
     "output_type": "execute_result"
    }
   ],
   "source": [
    "stm.DescrStatsW(ages).tconfint_mean()"
   ]
  },
  {
   "cell_type": "markdown",
   "metadata": {},
   "source": [
    "С уверенностью в 95% мы можем сказать, что средний возраст всех посетителей сайта лежит в диапозоне от 27 до 39 лет. Если мы будем проводить аналогичные исследования на выборках одного и тогоже размера много раз, независимо друг от друга, то 95% доверительных интервалов будут включать истинный средний возраст. "
   ]
  },
  {
   "cell_type": "code",
   "execution_count": null,
   "metadata": {},
   "outputs": [],
   "source": []
  }
 ],
 "metadata": {
  "kernelspec": {
   "display_name": "Python 3",
   "language": "python",
   "name": "python3"
  },
  "language_info": {
   "codemirror_mode": {
    "name": "ipython",
    "version": 3
   },
   "file_extension": ".py",
   "mimetype": "text/x-python",
   "name": "python",
   "nbconvert_exporter": "python",
   "pygments_lexer": "ipython3",
   "version": "3.8.5"
  }
 },
 "nbformat": 4,
 "nbformat_minor": 4
}
