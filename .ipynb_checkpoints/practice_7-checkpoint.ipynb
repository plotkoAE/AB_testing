{
 "cells": [
  {
   "cell_type": "code",
   "execution_count": 57,
   "id": "d7ceb529",
   "metadata": {},
   "outputs": [],
   "source": [
    "import numpy as np\n",
    "import pandas as pd\n",
    "import matplotlib.pyplot as plt\n",
    "from statsmodels.stats.proportion import proportions_ztest"
   ]
  },
  {
   "cell_type": "markdown",
   "id": "b9aa415a",
   "metadata": {},
   "source": [
    "## Часть 1\n",
    "Расчет длительности эксперемента и сбор данных "
   ]
  },
  {
   "cell_type": "code",
   "execution_count": 2,
   "id": "29e128e2",
   "metadata": {},
   "outputs": [],
   "source": [
    "df = pd.read_excel('practice_1_2.xlsx')"
   ]
  },
  {
   "cell_type": "code",
   "execution_count": 3,
   "id": "b524a969",
   "metadata": {},
   "outputs": [],
   "source": [
    "avg_users = df.users.mean()"
   ]
  },
  {
   "cell_type": "code",
   "execution_count": 4,
   "id": "94de1143",
   "metadata": {},
   "outputs": [
    {
     "data": {
      "text/html": [
       "<div>\n",
       "<style scoped>\n",
       "    .dataframe tbody tr th:only-of-type {\n",
       "        vertical-align: middle;\n",
       "    }\n",
       "\n",
       "    .dataframe tbody tr th {\n",
       "        vertical-align: top;\n",
       "    }\n",
       "\n",
       "    .dataframe thead th {\n",
       "        text-align: right;\n",
       "    }\n",
       "</style>\n",
       "<table border=\"1\" class=\"dataframe\">\n",
       "  <thead>\n",
       "    <tr style=\"text-align: right;\">\n",
       "      <th></th>\n",
       "      <th>date</th>\n",
       "      <th>users</th>\n",
       "      <th>orders</th>\n",
       "    </tr>\n",
       "  </thead>\n",
       "  <tbody>\n",
       "    <tr>\n",
       "      <th>0</th>\n",
       "      <td>2018-06-01</td>\n",
       "      <td>2580</td>\n",
       "      <td>710</td>\n",
       "    </tr>\n",
       "    <tr>\n",
       "      <th>1</th>\n",
       "      <td>2018-06-02</td>\n",
       "      <td>2603</td>\n",
       "      <td>676</td>\n",
       "    </tr>\n",
       "    <tr>\n",
       "      <th>2</th>\n",
       "      <td>2018-06-03</td>\n",
       "      <td>2615</td>\n",
       "      <td>712</td>\n",
       "    </tr>\n",
       "    <tr>\n",
       "      <th>3</th>\n",
       "      <td>2018-06-04</td>\n",
       "      <td>2627</td>\n",
       "      <td>663</td>\n",
       "    </tr>\n",
       "    <tr>\n",
       "      <th>4</th>\n",
       "      <td>2018-06-05</td>\n",
       "      <td>2530</td>\n",
       "      <td>727</td>\n",
       "    </tr>\n",
       "    <tr>\n",
       "      <th>...</th>\n",
       "      <td>...</td>\n",
       "      <td>...</td>\n",
       "      <td>...</td>\n",
       "    </tr>\n",
       "    <tr>\n",
       "      <th>57</th>\n",
       "      <td>2018-07-28</td>\n",
       "      <td>2616</td>\n",
       "      <td>682</td>\n",
       "    </tr>\n",
       "    <tr>\n",
       "      <th>58</th>\n",
       "      <td>2018-07-29</td>\n",
       "      <td>2668</td>\n",
       "      <td>719</td>\n",
       "    </tr>\n",
       "    <tr>\n",
       "      <th>59</th>\n",
       "      <td>2018-07-30</td>\n",
       "      <td>2635</td>\n",
       "      <td>689</td>\n",
       "    </tr>\n",
       "    <tr>\n",
       "      <th>60</th>\n",
       "      <td>2018-07-31</td>\n",
       "      <td>2604</td>\n",
       "      <td>732</td>\n",
       "    </tr>\n",
       "    <tr>\n",
       "      <th>61</th>\n",
       "      <td>2018-08-01</td>\n",
       "      <td>2520</td>\n",
       "      <td>728</td>\n",
       "    </tr>\n",
       "  </tbody>\n",
       "</table>\n",
       "<p>62 rows × 3 columns</p>\n",
       "</div>"
      ],
      "text/plain": [
       "         date  users  orders\n",
       "0  2018-06-01   2580     710\n",
       "1  2018-06-02   2603     676\n",
       "2  2018-06-03   2615     712\n",
       "3  2018-06-04   2627     663\n",
       "4  2018-06-05   2530     727\n",
       "..        ...    ...     ...\n",
       "57 2018-07-28   2616     682\n",
       "58 2018-07-29   2668     719\n",
       "59 2018-07-30   2635     689\n",
       "60 2018-07-31   2604     732\n",
       "61 2018-08-01   2520     728\n",
       "\n",
       "[62 rows x 3 columns]"
      ]
     },
     "execution_count": 4,
     "metadata": {},
     "output_type": "execute_result"
    }
   ],
   "source": [
    "df"
   ]
  },
  {
   "cell_type": "code",
   "execution_count": 5,
   "id": "998d6882",
   "metadata": {},
   "outputs": [
    {
     "data": {
      "text/plain": [
       "3.739621809294432"
      ]
     },
     "execution_count": 5,
     "metadata": {},
     "output_type": "execute_result"
    }
   ],
   "source": [
    "(df.users / df.orders).mean()"
   ]
  },
  {
   "cell_type": "markdown",
   "id": "850d0fc7",
   "metadata": {},
   "source": [
    "Всего нам понадобится 11 187 наблюдений.\n",
    "Для сбора наблюдений нам необходимо 5 дней. "
   ]
  },
  {
   "cell_type": "code",
   "execution_count": 6,
   "id": "69e681a9",
   "metadata": {},
   "outputs": [
    {
     "data": {
      "text/plain": [
       "4.287160658655986"
      ]
     },
     "execution_count": 6,
     "metadata": {},
     "output_type": "execute_result"
    }
   ],
   "source": [
    "11187 / avg_users"
   ]
  },
  {
   "cell_type": "markdown",
   "id": "477532cc",
   "metadata": {},
   "source": [
    "## Часть 2\n",
    "После первого видео вы рассчитали длительность эксперимента и приняли решение, что запуск непременно нужен. Тест запустили, данные собрали. \n",
    "- Теперь давайте проверим, достаточно ли в тесте данных? \n",
    "- Сколько времени шёл тест? \n",
    "- Отличается ли фактическая длительность теста от рассчитанной? \n",
    "- Как ведет себя график p-value по дням? \n",
    "- Что можете сказать об изменении конверсии в заказ? "
   ]
  },
  {
   "cell_type": "code",
   "execution_count": 7,
   "id": "3dc7581e",
   "metadata": {},
   "outputs": [
    {
     "data": {
      "text/html": [
       "<div>\n",
       "<style scoped>\n",
       "    .dataframe tbody tr th:only-of-type {\n",
       "        vertical-align: middle;\n",
       "    }\n",
       "\n",
       "    .dataframe tbody tr th {\n",
       "        vertical-align: top;\n",
       "    }\n",
       "\n",
       "    .dataframe thead th {\n",
       "        text-align: right;\n",
       "    }\n",
       "</style>\n",
       "<table border=\"1\" class=\"dataframe\">\n",
       "  <thead>\n",
       "    <tr style=\"text-align: right;\">\n",
       "      <th></th>\n",
       "      <th>uid</th>\n",
       "      <th>case_id</th>\n",
       "      <th>received</th>\n",
       "      <th>price</th>\n",
       "      <th>pay_status</th>\n",
       "      <th>order_id</th>\n",
       "      <th>add_dt_day</th>\n",
       "    </tr>\n",
       "  </thead>\n",
       "  <tbody>\n",
       "    <tr>\n",
       "      <th>0</th>\n",
       "      <td>d79239f40f08cb4a8293f11e2a322858b1b3cf77b44d4f...</td>\n",
       "      <td>A</td>\n",
       "      <td>NaT</td>\n",
       "      <td>NaN</td>\n",
       "      <td>NaN</td>\n",
       "      <td>NaN</td>\n",
       "      <td>2018-08-20</td>\n",
       "    </tr>\n",
       "    <tr>\n",
       "      <th>1</th>\n",
       "      <td>d43f4f0585a6912fd250e1493e029bfd5a82aebd35bbb5...</td>\n",
       "      <td>A</td>\n",
       "      <td>2018-08-20 20:38:49</td>\n",
       "      <td>3157.0</td>\n",
       "      <td>0.0</td>\n",
       "      <td>14381314.0</td>\n",
       "      <td>2018-08-20</td>\n",
       "    </tr>\n",
       "    <tr>\n",
       "      <th>2</th>\n",
       "      <td>d43f4f0585a6912fd250e1493e029bfd5a82aebd35bbb5...</td>\n",
       "      <td>A</td>\n",
       "      <td>2018-08-20 20:40:05</td>\n",
       "      <td>NaN</td>\n",
       "      <td>0.0</td>\n",
       "      <td>NaN</td>\n",
       "      <td>2018-08-20</td>\n",
       "    </tr>\n",
       "    <tr>\n",
       "      <th>3</th>\n",
       "      <td>c4fd4b441c1c00a6347e12538aa46b9114595c82da04ad...</td>\n",
       "      <td>A</td>\n",
       "      <td>NaT</td>\n",
       "      <td>NaN</td>\n",
       "      <td>NaN</td>\n",
       "      <td>NaN</td>\n",
       "      <td>2018-08-18</td>\n",
       "    </tr>\n",
       "    <tr>\n",
       "      <th>4</th>\n",
       "      <td>7b4a246f85249487334f60a2e8d0f6d9c33e4635c083b7...</td>\n",
       "      <td>A</td>\n",
       "      <td>NaT</td>\n",
       "      <td>NaN</td>\n",
       "      <td>NaN</td>\n",
       "      <td>NaN</td>\n",
       "      <td>2018-08-10</td>\n",
       "    </tr>\n",
       "  </tbody>\n",
       "</table>\n",
       "</div>"
      ],
      "text/plain": [
       "                                                 uid case_id  \\\n",
       "0  d79239f40f08cb4a8293f11e2a322858b1b3cf77b44d4f...       A   \n",
       "1  d43f4f0585a6912fd250e1493e029bfd5a82aebd35bbb5...       A   \n",
       "2  d43f4f0585a6912fd250e1493e029bfd5a82aebd35bbb5...       A   \n",
       "3  c4fd4b441c1c00a6347e12538aa46b9114595c82da04ad...       A   \n",
       "4  7b4a246f85249487334f60a2e8d0f6d9c33e4635c083b7...       A   \n",
       "\n",
       "             received   price  pay_status    order_id add_dt_day  \n",
       "0                 NaT     NaN         NaN         NaN 2018-08-20  \n",
       "1 2018-08-20 20:38:49  3157.0         0.0  14381314.0 2018-08-20  \n",
       "2 2018-08-20 20:40:05     NaN         0.0         NaN 2018-08-20  \n",
       "3                 NaT     NaN         NaN         NaN 2018-08-18  \n",
       "4                 NaT     NaN         NaN         NaN 2018-08-10  "
      ]
     },
     "execution_count": 7,
     "metadata": {},
     "output_type": "execute_result"
    }
   ],
   "source": [
    "df_test = pd.read_excel('trener_prices.xlsx')\n",
    "df_test.head()"
   ]
  },
  {
   "cell_type": "markdown",
   "id": "953f4c65",
   "metadata": {},
   "source": [
    "- case_id — вариант теста\n",
    "- uid — это уникальный пользователь, пришедший на сайт\n",
    "- add_dt_day — день попадания в тест\n",
    "- order_id — номер заказа\n",
    "- received — время создания заказа\n",
    "- price — стоимость  заказа\n",
    "- payed_status — статус оплаты.\n"
   ]
  },
  {
   "cell_type": "code",
   "execution_count": 10,
   "id": "b22c0c2d",
   "metadata": {},
   "outputs": [
    {
     "name": "stdout",
     "output_type": "stream",
     "text": [
      "<class 'pandas.core.frame.DataFrame'>\n",
      "RangeIndex: 45256 entries, 0 to 45255\n",
      "Data columns (total 7 columns):\n",
      " #   Column      Non-Null Count  Dtype         \n",
      "---  ------      --------------  -----         \n",
      " 0   uid         45256 non-null  object        \n",
      " 1   case_id     45256 non-null  object        \n",
      " 2   received    16245 non-null  datetime64[ns]\n",
      " 3   price       13990 non-null  float64       \n",
      " 4   pay_status  16245 non-null  float64       \n",
      " 5   order_id    11211 non-null  float64       \n",
      " 6   add_dt_day  45256 non-null  datetime64[ns]\n",
      "dtypes: datetime64[ns](2), float64(3), object(2)\n",
      "memory usage: 2.4+ MB\n"
     ]
    }
   ],
   "source": [
    "df_test.info()"
   ]
  },
  {
   "cell_type": "code",
   "execution_count": 9,
   "id": "0365c032",
   "metadata": {},
   "outputs": [
    {
     "data": {
      "text/plain": [
       "(45256, 7)"
      ]
     },
     "execution_count": 9,
     "metadata": {},
     "output_type": "execute_result"
    }
   ],
   "source": [
    "df_test.shape"
   ]
  },
  {
   "cell_type": "markdown",
   "id": "7dfc53d6",
   "metadata": {},
   "source": [
    "У нас есть 45256 наблюдений, этого достаточно для теста"
   ]
  },
  {
   "cell_type": "code",
   "execution_count": 11,
   "id": "095626e1",
   "metadata": {},
   "outputs": [
    {
     "data": {
      "text/plain": [
       "Timedelta('13 days 00:00:00')"
      ]
     },
     "execution_count": 11,
     "metadata": {},
     "output_type": "execute_result"
    }
   ],
   "source": [
    "df_test.add_dt_day.max() - df_test.add_dt_day.min()"
   ]
  },
  {
   "cell_type": "markdown",
   "id": "e7bc70c2",
   "metadata": {},
   "source": [
    "Сбор данных длился 13 дней, это больше чем мы планировали. "
   ]
  },
  {
   "cell_type": "code",
   "execution_count": 20,
   "id": "493cfed5",
   "metadata": {},
   "outputs": [],
   "source": [
    "users_count_by_day = df_test.groupby(['case_id', 'add_dt_day'])\\\n",
    "    .agg(count_users = ('uid', 'nunique'),\n",
    "         count_order = ('order_id', 'nunique'))"
   ]
  },
  {
   "cell_type": "code",
   "execution_count": 35,
   "id": "d565833c",
   "metadata": {},
   "outputs": [
    {
     "data": {
      "text/html": [
       "<div>\n",
       "<style scoped>\n",
       "    .dataframe tbody tr th:only-of-type {\n",
       "        vertical-align: middle;\n",
       "    }\n",
       "\n",
       "    .dataframe tbody tr th {\n",
       "        vertical-align: top;\n",
       "    }\n",
       "\n",
       "    .dataframe thead th {\n",
       "        text-align: right;\n",
       "    }\n",
       "</style>\n",
       "<table border=\"1\" class=\"dataframe\">\n",
       "  <thead>\n",
       "    <tr style=\"text-align: right;\">\n",
       "      <th></th>\n",
       "      <th></th>\n",
       "      <th>count_users</th>\n",
       "      <th>count_order</th>\n",
       "      <th>conversion</th>\n",
       "    </tr>\n",
       "    <tr>\n",
       "      <th>case_id</th>\n",
       "      <th>add_dt_day</th>\n",
       "      <th></th>\n",
       "      <th></th>\n",
       "      <th></th>\n",
       "    </tr>\n",
       "  </thead>\n",
       "  <tbody>\n",
       "    <tr>\n",
       "      <th rowspan=\"14\" valign=\"top\">A</th>\n",
       "      <th>2018-08-08</th>\n",
       "      <td>604</td>\n",
       "      <td>159</td>\n",
       "      <td>0.263245</td>\n",
       "    </tr>\n",
       "    <tr>\n",
       "      <th>2018-08-09</th>\n",
       "      <td>2403</td>\n",
       "      <td>646</td>\n",
       "      <td>0.268831</td>\n",
       "    </tr>\n",
       "    <tr>\n",
       "      <th>2018-08-10</th>\n",
       "      <td>3937</td>\n",
       "      <td>1013</td>\n",
       "      <td>0.257303</td>\n",
       "    </tr>\n",
       "    <tr>\n",
       "      <th>2018-08-11</th>\n",
       "      <td>5060</td>\n",
       "      <td>1308</td>\n",
       "      <td>0.258498</td>\n",
       "    </tr>\n",
       "    <tr>\n",
       "      <th>2018-08-12</th>\n",
       "      <td>6337</td>\n",
       "      <td>1636</td>\n",
       "      <td>0.258166</td>\n",
       "    </tr>\n",
       "    <tr>\n",
       "      <th>2018-08-13</th>\n",
       "      <td>8399</td>\n",
       "      <td>2200</td>\n",
       "      <td>0.261936</td>\n",
       "    </tr>\n",
       "    <tr>\n",
       "      <th>2018-08-14</th>\n",
       "      <td>10171</td>\n",
       "      <td>2671</td>\n",
       "      <td>0.262609</td>\n",
       "    </tr>\n",
       "    <tr>\n",
       "      <th>2018-08-15</th>\n",
       "      <td>12168</td>\n",
       "      <td>3224</td>\n",
       "      <td>0.264957</td>\n",
       "    </tr>\n",
       "    <tr>\n",
       "      <th>2018-08-16</th>\n",
       "      <td>14109</td>\n",
       "      <td>3759</td>\n",
       "      <td>0.266426</td>\n",
       "    </tr>\n",
       "    <tr>\n",
       "      <th>2018-08-17</th>\n",
       "      <td>15738</td>\n",
       "      <td>4194</td>\n",
       "      <td>0.266489</td>\n",
       "    </tr>\n",
       "    <tr>\n",
       "      <th>2018-08-18</th>\n",
       "      <td>16892</td>\n",
       "      <td>4485</td>\n",
       "      <td>0.265510</td>\n",
       "    </tr>\n",
       "    <tr>\n",
       "      <th>2018-08-19</th>\n",
       "      <td>18201</td>\n",
       "      <td>4802</td>\n",
       "      <td>0.263832</td>\n",
       "    </tr>\n",
       "    <tr>\n",
       "      <th>2018-08-20</th>\n",
       "      <td>20470</td>\n",
       "      <td>5416</td>\n",
       "      <td>0.264582</td>\n",
       "    </tr>\n",
       "    <tr>\n",
       "      <th>2018-08-21</th>\n",
       "      <td>21226</td>\n",
       "      <td>5612</td>\n",
       "      <td>0.264393</td>\n",
       "    </tr>\n",
       "    <tr>\n",
       "      <th rowspan=\"14\" valign=\"top\">B</th>\n",
       "      <th>2018-08-08</th>\n",
       "      <td>525</td>\n",
       "      <td>163</td>\n",
       "      <td>0.310476</td>\n",
       "    </tr>\n",
       "    <tr>\n",
       "      <th>2018-08-09</th>\n",
       "      <td>2319</td>\n",
       "      <td>675</td>\n",
       "      <td>0.291074</td>\n",
       "    </tr>\n",
       "    <tr>\n",
       "      <th>2018-08-10</th>\n",
       "      <td>3837</td>\n",
       "      <td>1061</td>\n",
       "      <td>0.276518</td>\n",
       "    </tr>\n",
       "    <tr>\n",
       "      <th>2018-08-11</th>\n",
       "      <td>4916</td>\n",
       "      <td>1311</td>\n",
       "      <td>0.266680</td>\n",
       "    </tr>\n",
       "    <tr>\n",
       "      <th>2018-08-12</th>\n",
       "      <td>6190</td>\n",
       "      <td>1642</td>\n",
       "      <td>0.265267</td>\n",
       "    </tr>\n",
       "    <tr>\n",
       "      <th>2018-08-13</th>\n",
       "      <td>8202</td>\n",
       "      <td>2168</td>\n",
       "      <td>0.264326</td>\n",
       "    </tr>\n",
       "    <tr>\n",
       "      <th>2018-08-14</th>\n",
       "      <td>10046</td>\n",
       "      <td>2674</td>\n",
       "      <td>0.266176</td>\n",
       "    </tr>\n",
       "    <tr>\n",
       "      <th>2018-08-15</th>\n",
       "      <td>12051</td>\n",
       "      <td>3242</td>\n",
       "      <td>0.269023</td>\n",
       "    </tr>\n",
       "    <tr>\n",
       "      <th>2018-08-16</th>\n",
       "      <td>13883</td>\n",
       "      <td>3754</td>\n",
       "      <td>0.270403</td>\n",
       "    </tr>\n",
       "    <tr>\n",
       "      <th>2018-08-17</th>\n",
       "      <td>15449</td>\n",
       "      <td>4141</td>\n",
       "      <td>0.268043</td>\n",
       "    </tr>\n",
       "    <tr>\n",
       "      <th>2018-08-18</th>\n",
       "      <td>16574</td>\n",
       "      <td>4439</td>\n",
       "      <td>0.267829</td>\n",
       "    </tr>\n",
       "    <tr>\n",
       "      <th>2018-08-19</th>\n",
       "      <td>17879</td>\n",
       "      <td>4761</td>\n",
       "      <td>0.266290</td>\n",
       "    </tr>\n",
       "    <tr>\n",
       "      <th>2018-08-20</th>\n",
       "      <td>20235</td>\n",
       "      <td>5410</td>\n",
       "      <td>0.267359</td>\n",
       "    </tr>\n",
       "    <tr>\n",
       "      <th>2018-08-21</th>\n",
       "      <td>20965</td>\n",
       "      <td>5599</td>\n",
       "      <td>0.267064</td>\n",
       "    </tr>\n",
       "  </tbody>\n",
       "</table>\n",
       "</div>"
      ],
      "text/plain": [
       "                    count_users  count_order  conversion\n",
       "case_id add_dt_day                                      \n",
       "A       2018-08-08          604          159    0.263245\n",
       "        2018-08-09         2403          646    0.268831\n",
       "        2018-08-10         3937         1013    0.257303\n",
       "        2018-08-11         5060         1308    0.258498\n",
       "        2018-08-12         6337         1636    0.258166\n",
       "        2018-08-13         8399         2200    0.261936\n",
       "        2018-08-14        10171         2671    0.262609\n",
       "        2018-08-15        12168         3224    0.264957\n",
       "        2018-08-16        14109         3759    0.266426\n",
       "        2018-08-17        15738         4194    0.266489\n",
       "        2018-08-18        16892         4485    0.265510\n",
       "        2018-08-19        18201         4802    0.263832\n",
       "        2018-08-20        20470         5416    0.264582\n",
       "        2018-08-21        21226         5612    0.264393\n",
       "B       2018-08-08          525          163    0.310476\n",
       "        2018-08-09         2319          675    0.291074\n",
       "        2018-08-10         3837         1061    0.276518\n",
       "        2018-08-11         4916         1311    0.266680\n",
       "        2018-08-12         6190         1642    0.265267\n",
       "        2018-08-13         8202         2168    0.264326\n",
       "        2018-08-14        10046         2674    0.266176\n",
       "        2018-08-15        12051         3242    0.269023\n",
       "        2018-08-16        13883         3754    0.270403\n",
       "        2018-08-17        15449         4141    0.268043\n",
       "        2018-08-18        16574         4439    0.267829\n",
       "        2018-08-19        17879         4761    0.266290\n",
       "        2018-08-20        20235         5410    0.267359\n",
       "        2018-08-21        20965         5599    0.267064"
      ]
     },
     "execution_count": 35,
     "metadata": {},
     "output_type": "execute_result"
    }
   ],
   "source": [
    "c = users_count_by_day.groupby('case_id').cumsum()\n",
    "c['conversion'] = c['count_order'] / c['count_users']\n",
    "c"
   ]
  },
  {
   "cell_type": "code",
   "execution_count": 36,
   "id": "7fa1a9f2",
   "metadata": {},
   "outputs": [
    {
     "data": {
      "text/html": [
       "<div>\n",
       "<style scoped>\n",
       "    .dataframe tbody tr th:only-of-type {\n",
       "        vertical-align: middle;\n",
       "    }\n",
       "\n",
       "    .dataframe tbody tr th {\n",
       "        vertical-align: top;\n",
       "    }\n",
       "\n",
       "    .dataframe thead th {\n",
       "        text-align: right;\n",
       "    }\n",
       "</style>\n",
       "<table border=\"1\" class=\"dataframe\">\n",
       "  <thead>\n",
       "    <tr style=\"text-align: right;\">\n",
       "      <th></th>\n",
       "      <th></th>\n",
       "      <th>count_users</th>\n",
       "      <th>count_order</th>\n",
       "      <th>conversion</th>\n",
       "    </tr>\n",
       "    <tr>\n",
       "      <th>case_id</th>\n",
       "      <th>add_dt_day</th>\n",
       "      <th></th>\n",
       "      <th></th>\n",
       "      <th></th>\n",
       "    </tr>\n",
       "  </thead>\n",
       "  <tbody>\n",
       "    <tr>\n",
       "      <th>A</th>\n",
       "      <th>2018-08-21</th>\n",
       "      <td>21226</td>\n",
       "      <td>5612</td>\n",
       "      <td>0.264393</td>\n",
       "    </tr>\n",
       "    <tr>\n",
       "      <th>B</th>\n",
       "      <th>2018-08-21</th>\n",
       "      <td>20965</td>\n",
       "      <td>5599</td>\n",
       "      <td>0.267064</td>\n",
       "    </tr>\n",
       "  </tbody>\n",
       "</table>\n",
       "</div>"
      ],
      "text/plain": [
       "                    count_users  count_order  conversion\n",
       "case_id add_dt_day                                      \n",
       "A       2018-08-21        21226         5612    0.264393\n",
       "B       2018-08-21        20965         5599    0.267064"
      ]
     },
     "execution_count": 36,
     "metadata": {},
     "output_type": "execute_result"
    }
   ],
   "source": [
    "c.query(\"add_dt_day=='2018-08-21'\")"
   ]
  },
  {
   "cell_type": "code",
   "execution_count": 55,
   "id": "c5788747",
   "metadata": {},
   "outputs": [
    {
     "data": {
      "text/plain": [
       "DatetimeIndex(['2018-08-08', '2018-08-09', '2018-08-10', '2018-08-11',\n",
       "               '2018-08-12', '2018-08-13', '2018-08-14', '2018-08-15',\n",
       "               '2018-08-16', '2018-08-17', '2018-08-18', '2018-08-19',\n",
       "               '2018-08-20', '2018-08-21'],\n",
       "              dtype='datetime64[ns]', name='add_dt_day', freq=None)"
      ]
     },
     "execution_count": 55,
     "metadata": {},
     "output_type": "execute_result"
    }
   ],
   "source": [
    "c.loc['A'].index"
   ]
  },
  {
   "cell_type": "code",
   "execution_count": 50,
   "id": "511c9aa8",
   "metadata": {},
   "outputs": [
    {
     "data": {
      "text/plain": [
       "[0.03979162966905186,\n",
       " 0.04435142952567006,\n",
       " 0.02773382335065052,\n",
       " 0.17655767848858434,\n",
       " 0.18301806654716402,\n",
       " 0.3633108515312975,\n",
       " 0.28268252871087307,\n",
       " 0.23724730868983746,\n",
       " 0.22640046870564928,\n",
       " 0.37822024270979393,\n",
       " 0.3157516263138884,\n",
       " 0.2984066545709704,\n",
       " 0.26309650388748235,\n",
       " 0.26726193319627267]"
      ]
     },
     "execution_count": 50,
     "metadata": {},
     "output_type": "execute_result"
    }
   ],
   "source": [
    "p_value_trend = list(range(0, len(c.loc['A'])))\n",
    "\n",
    "for i in range(0, len(c.loc['A'])):\n",
    "    count = np.array([c.count_order.loc['A'][i], c.count_order.loc['B'][i]])\n",
    "    ncount = np.array([c.count_users.loc['A'][i], c.count_users.loc['B'][i]])\n",
    "    stat, pvalue = proportions_ztest(count, ncount)\n",
    "    p_value_trend[i] = pvalue/2\n",
    "\n",
    "p_value_trend"
   ]
  },
  {
   "cell_type": "code",
   "execution_count": 61,
   "id": "65c467d6",
   "metadata": {},
   "outputs": [
    {
     "data": {
      "image/png": "[encoded data removed]",
      "text/plain": [
       "<Figure size 640x480 with 1 Axes>"
      ]
     },
     "metadata": {},
     "output_type": "display_data"
    }
   ],
   "source": [
    "plt.plot(c.loc['A'].index, p_value_trend)\n",
    "plt.xticks(rotation = 45)\n",
    "plt.grid()"
   ]
  },
  {
   "cell_type": "code",
   "execution_count": 62,
   "id": "39af0352",
   "metadata": {},
   "outputs": [],
   "source": [
    "diff = c.conversion.loc['B'] - c.conversion.loc['A']"
   ]
  },
  {
   "cell_type": "code",
   "execution_count": 63,
   "id": "03409493",
   "metadata": {},
   "outputs": [
    {
     "data": {
      "image/png": "[encoded data removed]",
      "text/plain": [
       "<Figure size 640x480 with 1 Axes>"
      ]
     },
     "metadata": {},
     "output_type": "display_data"
    }
   ],
   "source": [
    "plt.plot(c.loc['A'].index, diff)\n",
    "plt.xticks(rotation = 45)\n",
    "plt.grid()"
   ]
  },
  {
   "cell_type": "markdown",
   "id": "d6895a0b",
   "metadata": {},
   "source": [
    "p-value по дням возрастает, с первых дней эксперемента он превышает уровень значимости 0.05 А разница в конверсии падает.  "
   ]
  }
 ],
 "metadata": {
  "kernelspec": {
   "display_name": "Python 3 (ipykernel)",
   "language": "python",
   "name": "python3"
  },
  "language_info": {
   "codemirror_mode": {
    "name": "ipython",
    "version": 3
   },
   "file_extension": ".py",
   "mimetype": "text/x-python",
   "name": "python",
   "nbconvert_exporter": "python",
   "pygments_lexer": "ipython3",
   "version": "3.9.13"
  }
 },
 "nbformat": 4,
 "nbformat_minor": 5
}
