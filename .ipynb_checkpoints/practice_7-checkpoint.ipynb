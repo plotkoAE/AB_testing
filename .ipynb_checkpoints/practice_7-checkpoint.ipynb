{
 "cells": [
  {
   "cell_type": "code",
   "execution_count": 90,
   "id": "d7ceb529",
   "metadata": {},
   "outputs": [],
   "source": [
    "import numpy as np\n",
    "import pandas as pd\n",
    "import matplotlib.pyplot as plt\n",
    "import seaborn as sns\n",
    "import random \n",
    "from statsmodels.stats.proportion import proportions_ztest"
   ]
  },
  {
   "cell_type": "markdown",
   "id": "6a330d09",
   "metadata": {},
   "source": [
    "Продакт-менеджер решил поменять формулировку вопроса о стоимости, которую клиент готов платить спортивному тренеру.\n",
    "Это один из самых сложных вопросов при создании заказа, потому что клиент часто не знает, сколько стоит услуга и ему трудно заполнить это поле. В то же время информация о том, сколько готов заплатить клиент, важна для определения процента, который компания получит с этого заказа. В компании уже были тесты, которые показывали, что формулировки вопросов сильно влияют на ответы пользователей. \n",
    "\n",
    "Для более точной оценки заказа было решено задавать не просто вопрос “Подходящая стоимость занятия”, а “Подходящая стоимость за час занятия”. Вот так выглядели варианты теста:\n"
   ]
  },
  {
   "cell_type": "markdown",
   "id": "b9aa415a",
   "metadata": {},
   "source": [
    "## Часть 1\n",
    "### Расчет длительности эксперемента и сбор данных \n",
    "\n",
    "В эксперименте договорились следить, как изменится конверсия в заказ и стоимость заказа. В файле practice_1_2.xlsx приведены данные по количеству пользователей и заказов с 1 июня 2018 года по 1 августа 2018 года. Рассчитайте длительность эксперимента на основе имеющихся данных. "
   ]
  },
  {
   "cell_type": "code",
   "execution_count": 3,
   "id": "29e128e2",
   "metadata": {},
   "outputs": [],
   "source": [
    "df = pd.read_excel('practice_1_2.xlsx')"
   ]
  },
  {
   "cell_type": "code",
   "execution_count": 50,
   "id": "94de1143",
   "metadata": {},
   "outputs": [
    {
     "data": {
      "text/html": [
       "<div>\n",
       "<style scoped>\n",
       "    .dataframe tbody tr th:only-of-type {\n",
       "        vertical-align: middle;\n",
       "    }\n",
       "\n",
       "    .dataframe tbody tr th {\n",
       "        vertical-align: top;\n",
       "    }\n",
       "\n",
       "    .dataframe thead th {\n",
       "        text-align: right;\n",
       "    }\n",
       "</style>\n",
       "<table border=\"1\" class=\"dataframe\">\n",
       "  <thead>\n",
       "    <tr style=\"text-align: right;\">\n",
       "      <th></th>\n",
       "      <th>date</th>\n",
       "      <th>users</th>\n",
       "      <th>orders</th>\n",
       "    </tr>\n",
       "  </thead>\n",
       "  <tbody>\n",
       "    <tr>\n",
       "      <th>0</th>\n",
       "      <td>2018-06-01</td>\n",
       "      <td>2580</td>\n",
       "      <td>710</td>\n",
       "    </tr>\n",
       "    <tr>\n",
       "      <th>1</th>\n",
       "      <td>2018-06-02</td>\n",
       "      <td>2603</td>\n",
       "      <td>676</td>\n",
       "    </tr>\n",
       "    <tr>\n",
       "      <th>2</th>\n",
       "      <td>2018-06-03</td>\n",
       "      <td>2615</td>\n",
       "      <td>712</td>\n",
       "    </tr>\n",
       "    <tr>\n",
       "      <th>3</th>\n",
       "      <td>2018-06-04</td>\n",
       "      <td>2627</td>\n",
       "      <td>663</td>\n",
       "    </tr>\n",
       "    <tr>\n",
       "      <th>4</th>\n",
       "      <td>2018-06-05</td>\n",
       "      <td>2530</td>\n",
       "      <td>727</td>\n",
       "    </tr>\n",
       "  </tbody>\n",
       "</table>\n",
       "</div>"
      ],
      "text/plain": [
       "        date  users  orders\n",
       "0 2018-06-01   2580     710\n",
       "1 2018-06-02   2603     676\n",
       "2 2018-06-03   2615     712\n",
       "3 2018-06-04   2627     663\n",
       "4 2018-06-05   2530     727"
      ]
     },
     "execution_count": 50,
     "metadata": {},
     "output_type": "execute_result"
    }
   ],
   "source": [
    "df.head()"
   ]
  },
  {
   "cell_type": "code",
   "execution_count": 52,
   "id": "6d12e454",
   "metadata": {},
   "outputs": [
    {
     "data": {
      "text/html": [
       "<div>\n",
       "<style scoped>\n",
       "    .dataframe tbody tr th:only-of-type {\n",
       "        vertical-align: middle;\n",
       "    }\n",
       "\n",
       "    .dataframe tbody tr th {\n",
       "        vertical-align: top;\n",
       "    }\n",
       "\n",
       "    .dataframe thead th {\n",
       "        text-align: right;\n",
       "    }\n",
       "</style>\n",
       "<table border=\"1\" class=\"dataframe\">\n",
       "  <thead>\n",
       "    <tr style=\"text-align: right;\">\n",
       "      <th></th>\n",
       "      <th>date</th>\n",
       "      <th>users</th>\n",
       "      <th>orders</th>\n",
       "      <th>conv</th>\n",
       "    </tr>\n",
       "  </thead>\n",
       "  <tbody>\n",
       "    <tr>\n",
       "      <th>0</th>\n",
       "      <td>2018-06-01</td>\n",
       "      <td>2580</td>\n",
       "      <td>710</td>\n",
       "      <td>0.275194</td>\n",
       "    </tr>\n",
       "    <tr>\n",
       "      <th>1</th>\n",
       "      <td>2018-06-02</td>\n",
       "      <td>2603</td>\n",
       "      <td>676</td>\n",
       "      <td>0.259700</td>\n",
       "    </tr>\n",
       "    <tr>\n",
       "      <th>2</th>\n",
       "      <td>2018-06-03</td>\n",
       "      <td>2615</td>\n",
       "      <td>712</td>\n",
       "      <td>0.272275</td>\n",
       "    </tr>\n",
       "    <tr>\n",
       "      <th>3</th>\n",
       "      <td>2018-06-04</td>\n",
       "      <td>2627</td>\n",
       "      <td>663</td>\n",
       "      <td>0.252379</td>\n",
       "    </tr>\n",
       "    <tr>\n",
       "      <th>4</th>\n",
       "      <td>2018-06-05</td>\n",
       "      <td>2530</td>\n",
       "      <td>727</td>\n",
       "      <td>0.287352</td>\n",
       "    </tr>\n",
       "  </tbody>\n",
       "</table>\n",
       "</div>"
      ],
      "text/plain": [
       "        date  users  orders      conv\n",
       "0 2018-06-01   2580     710  0.275194\n",
       "1 2018-06-02   2603     676  0.259700\n",
       "2 2018-06-03   2615     712  0.272275\n",
       "3 2018-06-04   2627     663  0.252379\n",
       "4 2018-06-05   2530     727  0.287352"
      ]
     },
     "execution_count": 52,
     "metadata": {},
     "output_type": "execute_result"
    }
   ],
   "source": [
    "df['conv'] = df.orders / df.users\n",
    "df.head()"
   ]
  },
  {
   "cell_type": "code",
   "execution_count": 65,
   "id": "3d36d261",
   "metadata": {},
   "outputs": [
    {
     "data": {
      "text/plain": [
       "count    62.000000\n",
       "mean      0.267789\n",
       "std       0.010225\n",
       "min       0.246826\n",
       "25%       0.260898\n",
       "50%       0.265795\n",
       "75%       0.275549\n",
       "max       0.288889\n",
       "Name: conv, dtype: float64"
      ]
     },
     "execution_count": 65,
     "metadata": {},
     "output_type": "execute_result"
    }
   ],
   "source": [
    "df.conv.describe()"
   ]
  },
  {
   "cell_type": "markdown",
   "id": "c1f98bc7",
   "metadata": {},
   "source": [
    "По среднеквадратичному отклонению, мы видим, что конвесия меняется примерно на 1 процентный пункт. "
   ]
  },
  {
   "cell_type": "code",
   "execution_count": 48,
   "id": "b524a969",
   "metadata": {},
   "outputs": [
    {
     "data": {
      "text/plain": [
       "2609.4193548387098"
      ]
     },
     "execution_count": 48,
     "metadata": {},
     "output_type": "execute_result"
    }
   ],
   "source": [
    "avg_users = df.users.mean()\n",
    "avg_users"
   ]
  },
  {
   "cell_type": "markdown",
   "id": "29be54fa",
   "metadata": {},
   "source": [
    "Среднее кол-во пользователей в день 2600"
   ]
  },
  {
   "cell_type": "code",
   "execution_count": 49,
   "id": "998d6882",
   "metadata": {},
   "outputs": [
    {
     "data": {
      "text/plain": [
       "0.26778850991918224"
      ]
     },
     "execution_count": 49,
     "metadata": {},
     "output_type": "execute_result"
    }
   ],
   "source": [
    "(df.orders/df.users).mean()"
   ]
  },
  {
   "cell_type": "markdown",
   "id": "b53a87cd",
   "metadata": {},
   "source": [
    "Средняя конверсия - 28 %"
   ]
  },
  {
   "cell_type": "markdown",
   "id": "b53f96fe",
   "metadata": {},
   "source": [
    "Используя, все эти показатели расчитаем на калькуляторе https://mindbox.ru/academy/ab-test-calculator/\n",
    "сколько наблюдений нам понадобится. \n",
    "\n",
    "С текущими даными калькулятор показывает, что нам необходима 42 974 наблюдения, по 21 487 в каждой группе. \n",
    "Таким образом для сбора наблюдений нам понадобится 17 дней. "
   ]
  },
  {
   "cell_type": "code",
   "execution_count": 70,
   "id": "69e681a9",
   "metadata": {},
   "outputs": [
    {
     "data": {
      "text/plain": [
       "16.468797903377343"
      ]
     },
     "execution_count": 70,
     "metadata": {},
     "output_type": "execute_result"
    }
   ],
   "source": [
    "42974 / avg_users"
   ]
  },
  {
   "cell_type": "code",
   "execution_count": 5,
   "id": "3dc7581e",
   "metadata": {},
   "outputs": [
    {
     "data": {
      "text/html": [
       "<div>\n",
       "<style scoped>\n",
       "    .dataframe tbody tr th:only-of-type {\n",
       "        vertical-align: middle;\n",
       "    }\n",
       "\n",
       "    .dataframe tbody tr th {\n",
       "        vertical-align: top;\n",
       "    }\n",
       "\n",
       "    .dataframe thead th {\n",
       "        text-align: right;\n",
       "    }\n",
       "</style>\n",
       "<table border=\"1\" class=\"dataframe\">\n",
       "  <thead>\n",
       "    <tr style=\"text-align: right;\">\n",
       "      <th></th>\n",
       "      <th>uid</th>\n",
       "      <th>case_id</th>\n",
       "      <th>received</th>\n",
       "      <th>price</th>\n",
       "      <th>pay_status</th>\n",
       "      <th>order_id</th>\n",
       "      <th>add_dt_day</th>\n",
       "    </tr>\n",
       "  </thead>\n",
       "  <tbody>\n",
       "    <tr>\n",
       "      <th>0</th>\n",
       "      <td>d79239f40f08cb4a8293f11e2a322858b1b3cf77b44d4f...</td>\n",
       "      <td>A</td>\n",
       "      <td>NaT</td>\n",
       "      <td>NaN</td>\n",
       "      <td>NaN</td>\n",
       "      <td>NaN</td>\n",
       "      <td>2018-08-20</td>\n",
       "    </tr>\n",
       "    <tr>\n",
       "      <th>1</th>\n",
       "      <td>d43f4f0585a6912fd250e1493e029bfd5a82aebd35bbb5...</td>\n",
       "      <td>A</td>\n",
       "      <td>2018-08-20 20:38:49</td>\n",
       "      <td>3157.0</td>\n",
       "      <td>0.0</td>\n",
       "      <td>14381314.0</td>\n",
       "      <td>2018-08-20</td>\n",
       "    </tr>\n",
       "    <tr>\n",
       "      <th>2</th>\n",
       "      <td>d43f4f0585a6912fd250e1493e029bfd5a82aebd35bbb5...</td>\n",
       "      <td>A</td>\n",
       "      <td>2018-08-20 20:40:05</td>\n",
       "      <td>NaN</td>\n",
       "      <td>0.0</td>\n",
       "      <td>NaN</td>\n",
       "      <td>2018-08-20</td>\n",
       "    </tr>\n",
       "    <tr>\n",
       "      <th>3</th>\n",
       "      <td>c4fd4b441c1c00a6347e12538aa46b9114595c82da04ad...</td>\n",
       "      <td>A</td>\n",
       "      <td>NaT</td>\n",
       "      <td>NaN</td>\n",
       "      <td>NaN</td>\n",
       "      <td>NaN</td>\n",
       "      <td>2018-08-18</td>\n",
       "    </tr>\n",
       "    <tr>\n",
       "      <th>4</th>\n",
       "      <td>7b4a246f85249487334f60a2e8d0f6d9c33e4635c083b7...</td>\n",
       "      <td>A</td>\n",
       "      <td>NaT</td>\n",
       "      <td>NaN</td>\n",
       "      <td>NaN</td>\n",
       "      <td>NaN</td>\n",
       "      <td>2018-08-10</td>\n",
       "    </tr>\n",
       "  </tbody>\n",
       "</table>\n",
       "</div>"
      ],
      "text/plain": [
       "                                                 uid case_id  \\\n",
       "0  d79239f40f08cb4a8293f11e2a322858b1b3cf77b44d4f...       A   \n",
       "1  d43f4f0585a6912fd250e1493e029bfd5a82aebd35bbb5...       A   \n",
       "2  d43f4f0585a6912fd250e1493e029bfd5a82aebd35bbb5...       A   \n",
       "3  c4fd4b441c1c00a6347e12538aa46b9114595c82da04ad...       A   \n",
       "4  7b4a246f85249487334f60a2e8d0f6d9c33e4635c083b7...       A   \n",
       "\n",
       "             received   price  pay_status    order_id add_dt_day  \n",
       "0                 NaT     NaN         NaN         NaN 2018-08-20  \n",
       "1 2018-08-20 20:38:49  3157.0         0.0  14381314.0 2018-08-20  \n",
       "2 2018-08-20 20:40:05     NaN         0.0         NaN 2018-08-20  \n",
       "3                 NaT     NaN         NaN         NaN 2018-08-18  \n",
       "4                 NaT     NaN         NaN         NaN 2018-08-10  "
      ]
     },
     "execution_count": 5,
     "metadata": {},
     "output_type": "execute_result"
    }
   ],
   "source": [
    "df_test = pd.read_excel('trener_prices.xlsx')\n",
    "df_test.head()"
   ]
  },
  {
   "cell_type": "markdown",
   "id": "953f4c65",
   "metadata": {},
   "source": [
    "- case_id — вариант теста\n",
    "- uid — это уникальный пользователь, пришедший на сайт\n",
    "- add_dt_day — день попадания в тест\n",
    "- order_id — номер заказа\n",
    "- received — время создания заказа\n",
    "- price — стоимость  заказа\n",
    "- payed_status — статус оплаты.\n"
   ]
  },
  {
   "cell_type": "code",
   "execution_count": 10,
   "id": "b22c0c2d",
   "metadata": {},
   "outputs": [
    {
     "name": "stdout",
     "output_type": "stream",
     "text": [
      "<class 'pandas.core.frame.DataFrame'>\n",
      "RangeIndex: 45256 entries, 0 to 45255\n",
      "Data columns (total 7 columns):\n",
      " #   Column      Non-Null Count  Dtype         \n",
      "---  ------      --------------  -----         \n",
      " 0   uid         45256 non-null  object        \n",
      " 1   case_id     45256 non-null  object        \n",
      " 2   received    16245 non-null  datetime64[ns]\n",
      " 3   price       13990 non-null  float64       \n",
      " 4   pay_status  16245 non-null  float64       \n",
      " 5   order_id    11211 non-null  float64       \n",
      " 6   add_dt_day  45256 non-null  datetime64[ns]\n",
      "dtypes: datetime64[ns](2), float64(3), object(2)\n",
      "memory usage: 2.4+ MB\n"
     ]
    }
   ],
   "source": [
    "df_test.info()"
   ]
  },
  {
   "cell_type": "code",
   "execution_count": 9,
   "id": "0365c032",
   "metadata": {},
   "outputs": [
    {
     "data": {
      "text/plain": [
       "(45256, 7)"
      ]
     },
     "execution_count": 9,
     "metadata": {},
     "output_type": "execute_result"
    }
   ],
   "source": [
    "df_test.shape"
   ]
  },
  {
   "cell_type": "markdown",
   "id": "7dfc53d6",
   "metadata": {},
   "source": [
    "У нас есть 45256 наблюдений, этого достаточно для теста"
   ]
  },
  {
   "cell_type": "code",
   "execution_count": 11,
   "id": "095626e1",
   "metadata": {},
   "outputs": [
    {
     "data": {
      "text/plain": [
       "Timedelta('13 days 00:00:00')"
      ]
     },
     "execution_count": 11,
     "metadata": {},
     "output_type": "execute_result"
    }
   ],
   "source": [
    "df_test.add_dt_day.max() - df_test.add_dt_day.min()"
   ]
  },
  {
   "cell_type": "markdown",
   "id": "e7bc70c2",
   "metadata": {},
   "source": [
    "Сбор данных длился 13 дней, это меньше, чем мы планировали. "
   ]
  },
  {
   "cell_type": "code",
   "execution_count": 6,
   "id": "493cfed5",
   "metadata": {},
   "outputs": [],
   "source": [
    "users_count_by_day = df_test.groupby(['case_id', 'add_dt_day'])\\\n",
    "    .agg(count_users = ('uid', 'nunique'),\n",
    "         count_order = ('order_id', 'nunique'))"
   ]
  },
  {
   "cell_type": "code",
   "execution_count": 35,
   "id": "d565833c",
   "metadata": {},
   "outputs": [
    {
     "data": {
      "text/html": [
       "<div>\n",
       "<style scoped>\n",
       "    .dataframe tbody tr th:only-of-type {\n",
       "        vertical-align: middle;\n",
       "    }\n",
       "\n",
       "    .dataframe tbody tr th {\n",
       "        vertical-align: top;\n",
       "    }\n",
       "\n",
       "    .dataframe thead th {\n",
       "        text-align: right;\n",
       "    }\n",
       "</style>\n",
       "<table border=\"1\" class=\"dataframe\">\n",
       "  <thead>\n",
       "    <tr style=\"text-align: right;\">\n",
       "      <th></th>\n",
       "      <th></th>\n",
       "      <th>count_users</th>\n",
       "      <th>count_order</th>\n",
       "      <th>conversion</th>\n",
       "    </tr>\n",
       "    <tr>\n",
       "      <th>case_id</th>\n",
       "      <th>add_dt_day</th>\n",
       "      <th></th>\n",
       "      <th></th>\n",
       "      <th></th>\n",
       "    </tr>\n",
       "  </thead>\n",
       "  <tbody>\n",
       "    <tr>\n",
       "      <th rowspan=\"14\" valign=\"top\">A</th>\n",
       "      <th>2018-08-08</th>\n",
       "      <td>604</td>\n",
       "      <td>159</td>\n",
       "      <td>0.263245</td>\n",
       "    </tr>\n",
       "    <tr>\n",
       "      <th>2018-08-09</th>\n",
       "      <td>2403</td>\n",
       "      <td>646</td>\n",
       "      <td>0.268831</td>\n",
       "    </tr>\n",
       "    <tr>\n",
       "      <th>2018-08-10</th>\n",
       "      <td>3937</td>\n",
       "      <td>1013</td>\n",
       "      <td>0.257303</td>\n",
       "    </tr>\n",
       "    <tr>\n",
       "      <th>2018-08-11</th>\n",
       "      <td>5060</td>\n",
       "      <td>1308</td>\n",
       "      <td>0.258498</td>\n",
       "    </tr>\n",
       "    <tr>\n",
       "      <th>2018-08-12</th>\n",
       "      <td>6337</td>\n",
       "      <td>1636</td>\n",
       "      <td>0.258166</td>\n",
       "    </tr>\n",
       "    <tr>\n",
       "      <th>2018-08-13</th>\n",
       "      <td>8399</td>\n",
       "      <td>2200</td>\n",
       "      <td>0.261936</td>\n",
       "    </tr>\n",
       "    <tr>\n",
       "      <th>2018-08-14</th>\n",
       "      <td>10171</td>\n",
       "      <td>2671</td>\n",
       "      <td>0.262609</td>\n",
       "    </tr>\n",
       "    <tr>\n",
       "      <th>2018-08-15</th>\n",
       "      <td>12168</td>\n",
       "      <td>3224</td>\n",
       "      <td>0.264957</td>\n",
       "    </tr>\n",
       "    <tr>\n",
       "      <th>2018-08-16</th>\n",
       "      <td>14109</td>\n",
       "      <td>3759</td>\n",
       "      <td>0.266426</td>\n",
       "    </tr>\n",
       "    <tr>\n",
       "      <th>2018-08-17</th>\n",
       "      <td>15738</td>\n",
       "      <td>4194</td>\n",
       "      <td>0.266489</td>\n",
       "    </tr>\n",
       "    <tr>\n",
       "      <th>2018-08-18</th>\n",
       "      <td>16892</td>\n",
       "      <td>4485</td>\n",
       "      <td>0.265510</td>\n",
       "    </tr>\n",
       "    <tr>\n",
       "      <th>2018-08-19</th>\n",
       "      <td>18201</td>\n",
       "      <td>4802</td>\n",
       "      <td>0.263832</td>\n",
       "    </tr>\n",
       "    <tr>\n",
       "      <th>2018-08-20</th>\n",
       "      <td>20470</td>\n",
       "      <td>5416</td>\n",
       "      <td>0.264582</td>\n",
       "    </tr>\n",
       "    <tr>\n",
       "      <th>2018-08-21</th>\n",
       "      <td>21226</td>\n",
       "      <td>5612</td>\n",
       "      <td>0.264393</td>\n",
       "    </tr>\n",
       "    <tr>\n",
       "      <th rowspan=\"14\" valign=\"top\">B</th>\n",
       "      <th>2018-08-08</th>\n",
       "      <td>525</td>\n",
       "      <td>163</td>\n",
       "      <td>0.310476</td>\n",
       "    </tr>\n",
       "    <tr>\n",
       "      <th>2018-08-09</th>\n",
       "      <td>2319</td>\n",
       "      <td>675</td>\n",
       "      <td>0.291074</td>\n",
       "    </tr>\n",
       "    <tr>\n",
       "      <th>2018-08-10</th>\n",
       "      <td>3837</td>\n",
       "      <td>1061</td>\n",
       "      <td>0.276518</td>\n",
       "    </tr>\n",
       "    <tr>\n",
       "      <th>2018-08-11</th>\n",
       "      <td>4916</td>\n",
       "      <td>1311</td>\n",
       "      <td>0.266680</td>\n",
       "    </tr>\n",
       "    <tr>\n",
       "      <th>2018-08-12</th>\n",
       "      <td>6190</td>\n",
       "      <td>1642</td>\n",
       "      <td>0.265267</td>\n",
       "    </tr>\n",
       "    <tr>\n",
       "      <th>2018-08-13</th>\n",
       "      <td>8202</td>\n",
       "      <td>2168</td>\n",
       "      <td>0.264326</td>\n",
       "    </tr>\n",
       "    <tr>\n",
       "      <th>2018-08-14</th>\n",
       "      <td>10046</td>\n",
       "      <td>2674</td>\n",
       "      <td>0.266176</td>\n",
       "    </tr>\n",
       "    <tr>\n",
       "      <th>2018-08-15</th>\n",
       "      <td>12051</td>\n",
       "      <td>3242</td>\n",
       "      <td>0.269023</td>\n",
       "    </tr>\n",
       "    <tr>\n",
       "      <th>2018-08-16</th>\n",
       "      <td>13883</td>\n",
       "      <td>3754</td>\n",
       "      <td>0.270403</td>\n",
       "    </tr>\n",
       "    <tr>\n",
       "      <th>2018-08-17</th>\n",
       "      <td>15449</td>\n",
       "      <td>4141</td>\n",
       "      <td>0.268043</td>\n",
       "    </tr>\n",
       "    <tr>\n",
       "      <th>2018-08-18</th>\n",
       "      <td>16574</td>\n",
       "      <td>4439</td>\n",
       "      <td>0.267829</td>\n",
       "    </tr>\n",
       "    <tr>\n",
       "      <th>2018-08-19</th>\n",
       "      <td>17879</td>\n",
       "      <td>4761</td>\n",
       "      <td>0.266290</td>\n",
       "    </tr>\n",
       "    <tr>\n",
       "      <th>2018-08-20</th>\n",
       "      <td>20235</td>\n",
       "      <td>5410</td>\n",
       "      <td>0.267359</td>\n",
       "    </tr>\n",
       "    <tr>\n",
       "      <th>2018-08-21</th>\n",
       "      <td>20965</td>\n",
       "      <td>5599</td>\n",
       "      <td>0.267064</td>\n",
       "    </tr>\n",
       "  </tbody>\n",
       "</table>\n",
       "</div>"
      ],
      "text/plain": [
       "                    count_users  count_order  conversion\n",
       "case_id add_dt_day                                      \n",
       "A       2018-08-08          604          159    0.263245\n",
       "        2018-08-09         2403          646    0.268831\n",
       "        2018-08-10         3937         1013    0.257303\n",
       "        2018-08-11         5060         1308    0.258498\n",
       "        2018-08-12         6337         1636    0.258166\n",
       "        2018-08-13         8399         2200    0.261936\n",
       "        2018-08-14        10171         2671    0.262609\n",
       "        2018-08-15        12168         3224    0.264957\n",
       "        2018-08-16        14109         3759    0.266426\n",
       "        2018-08-17        15738         4194    0.266489\n",
       "        2018-08-18        16892         4485    0.265510\n",
       "        2018-08-19        18201         4802    0.263832\n",
       "        2018-08-20        20470         5416    0.264582\n",
       "        2018-08-21        21226         5612    0.264393\n",
       "B       2018-08-08          525          163    0.310476\n",
       "        2018-08-09         2319          675    0.291074\n",
       "        2018-08-10         3837         1061    0.276518\n",
       "        2018-08-11         4916         1311    0.266680\n",
       "        2018-08-12         6190         1642    0.265267\n",
       "        2018-08-13         8202         2168    0.264326\n",
       "        2018-08-14        10046         2674    0.266176\n",
       "        2018-08-15        12051         3242    0.269023\n",
       "        2018-08-16        13883         3754    0.270403\n",
       "        2018-08-17        15449         4141    0.268043\n",
       "        2018-08-18        16574         4439    0.267829\n",
       "        2018-08-19        17879         4761    0.266290\n",
       "        2018-08-20        20235         5410    0.267359\n",
       "        2018-08-21        20965         5599    0.267064"
      ]
     },
     "execution_count": 35,
     "metadata": {},
     "output_type": "execute_result"
    }
   ],
   "source": [
    "c = users_count_by_day.groupby('case_id').cumsum()\n",
    "c['conversion'] = c['count_order'] / c['count_users']\n",
    "c"
   ]
  },
  {
   "cell_type": "code",
   "execution_count": 36,
   "id": "7fa1a9f2",
   "metadata": {},
   "outputs": [
    {
     "data": {
      "text/html": [
       "<div>\n",
       "<style scoped>\n",
       "    .dataframe tbody tr th:only-of-type {\n",
       "        vertical-align: middle;\n",
       "    }\n",
       "\n",
       "    .dataframe tbody tr th {\n",
       "        vertical-align: top;\n",
       "    }\n",
       "\n",
       "    .dataframe thead th {\n",
       "        text-align: right;\n",
       "    }\n",
       "</style>\n",
       "<table border=\"1\" class=\"dataframe\">\n",
       "  <thead>\n",
       "    <tr style=\"text-align: right;\">\n",
       "      <th></th>\n",
       "      <th></th>\n",
       "      <th>count_users</th>\n",
       "      <th>count_order</th>\n",
       "      <th>conversion</th>\n",
       "    </tr>\n",
       "    <tr>\n",
       "      <th>case_id</th>\n",
       "      <th>add_dt_day</th>\n",
       "      <th></th>\n",
       "      <th></th>\n",
       "      <th></th>\n",
       "    </tr>\n",
       "  </thead>\n",
       "  <tbody>\n",
       "    <tr>\n",
       "      <th>A</th>\n",
       "      <th>2018-08-21</th>\n",
       "      <td>21226</td>\n",
       "      <td>5612</td>\n",
       "      <td>0.264393</td>\n",
       "    </tr>\n",
       "    <tr>\n",
       "      <th>B</th>\n",
       "      <th>2018-08-21</th>\n",
       "      <td>20965</td>\n",
       "      <td>5599</td>\n",
       "      <td>0.267064</td>\n",
       "    </tr>\n",
       "  </tbody>\n",
       "</table>\n",
       "</div>"
      ],
      "text/plain": [
       "                    count_users  count_order  conversion\n",
       "case_id add_dt_day                                      \n",
       "A       2018-08-21        21226         5612    0.264393\n",
       "B       2018-08-21        20965         5599    0.267064"
      ]
     },
     "execution_count": 36,
     "metadata": {},
     "output_type": "execute_result"
    }
   ],
   "source": [
    "c.query(\"add_dt_day=='2018-08-21'\")"
   ]
  },
  {
   "cell_type": "code",
   "execution_count": 50,
   "id": "511c9aa8",
   "metadata": {},
   "outputs": [
    {
     "data": {
      "text/plain": [
       "[0.03979162966905186,\n",
       " 0.04435142952567006,\n",
       " 0.02773382335065052,\n",
       " 0.17655767848858434,\n",
       " 0.18301806654716402,\n",
       " 0.3633108515312975,\n",
       " 0.28268252871087307,\n",
       " 0.23724730868983746,\n",
       " 0.22640046870564928,\n",
       " 0.37822024270979393,\n",
       " 0.3157516263138884,\n",
       " 0.2984066545709704,\n",
       " 0.26309650388748235,\n",
       " 0.26726193319627267]"
      ]
     },
     "execution_count": 50,
     "metadata": {},
     "output_type": "execute_result"
    }
   ],
   "source": [
    "p_value_trend = list(range(0, len(c.loc['A'])))\n",
    "\n",
    "for i in range(0, len(c.loc['A'])):\n",
    "    count = np.array([c.count_order.loc['A'][i], c.count_order.loc['B'][i]])\n",
    "    ncount = np.array([c.count_users.loc['A'][i], c.count_users.loc['B'][i]])\n",
    "    stat, pvalue = proportions_ztest(count, ncount)\n",
    "    p_value_trend[i] = pvalue/2\n",
    "\n",
    "p_value_trend"
   ]
  },
  {
   "cell_type": "code",
   "execution_count": 61,
   "id": "65c467d6",
   "metadata": {},
   "outputs": [
    {
     "data": {
      "image/png": "[encoded data removed]",
      "text/plain": [
       "<Figure size 640x480 with 1 Axes>"
      ]
     },
     "metadata": {},
     "output_type": "display_data"
    }
   ],
   "source": [
    "plt.plot(c.loc['A'].index, p_value_trend)\n",
    "plt.xticks(rotation = 45)\n",
    "plt.grid()"
   ]
  },
  {
   "cell_type": "code",
   "execution_count": 66,
   "id": "39af0352",
   "metadata": {},
   "outputs": [],
   "source": [
    "diff = (c.conversion.loc['B'] - c.conversion.loc['A']) * 100"
   ]
  },
  {
   "cell_type": "code",
   "execution_count": 67,
   "id": "03409493",
   "metadata": {},
   "outputs": [
    {
     "data": {
      "image/png": "[encoded data removed]",
      "text/plain": [
       "<Figure size 640x480 with 1 Axes>"
      ]
     },
     "metadata": {},
     "output_type": "display_data"
    }
   ],
   "source": [
    "plt.plot(c.loc['A'].index, diff)\n",
    "plt.xticks(rotation = 45)\n",
    "plt.grid()"
   ]
  },
  {
   "cell_type": "markdown",
   "id": "d6895a0b",
   "metadata": {},
   "source": [
    "p-value по дням возрастает, с первых дней эксперемента он превышает уровень значимости 0.05 А разница в конверсии падает. На уровне значимости 5% мы подтверждаем нулевую гипотезу на текущих данных.  "
   ]
  },
  {
   "cell_type": "markdown",
   "id": "d5b5b668",
   "metadata": {},
   "source": [
    "Продолжаем анализ нашего теста о формулировках вопроса с ценой из первой практики. \n",
    "Теперь нас интересует, стали ли мы большое зарабатывать с заказов? Для того чтобы это узнать, нужно посмотреть на данные в столбце price. Но обратите внимание, что не все заказы были оплачены, оплаченные заказы имеют payed_status=30 и price>0.\n",
    "- Как распределена стоимость заказов? \n",
    "- Как изменилась стоимость заказа в Б варианте? \n",
    "- Значимы ли эти изменения? \n",
    "- Как вы оценивали значимость? \n",
    "- Почему выбрали такой метод? \n",
    "\n",
    "Сделайте выводы об успешности АБ-теста. Почему получились такие результаты? Напишите свои гипотезы.\n",
    "Данные лежат в файле trener_prices.xlsx."
   ]
  },
  {
   "cell_type": "code",
   "execution_count": 74,
   "id": "7d86a1a6",
   "metadata": {},
   "outputs": [
    {
     "data": {
      "text/html": [
       "<div>\n",
       "<style scoped>\n",
       "    .dataframe tbody tr th:only-of-type {\n",
       "        vertical-align: middle;\n",
       "    }\n",
       "\n",
       "    .dataframe tbody tr th {\n",
       "        vertical-align: top;\n",
       "    }\n",
       "\n",
       "    .dataframe thead th {\n",
       "        text-align: right;\n",
       "    }\n",
       "</style>\n",
       "<table border=\"1\" class=\"dataframe\">\n",
       "  <thead>\n",
       "    <tr style=\"text-align: right;\">\n",
       "      <th></th>\n",
       "      <th>count</th>\n",
       "      <th>mean</th>\n",
       "      <th>std</th>\n",
       "      <th>min</th>\n",
       "      <th>25%</th>\n",
       "      <th>50%</th>\n",
       "      <th>75%</th>\n",
       "      <th>max</th>\n",
       "    </tr>\n",
       "    <tr>\n",
       "      <th>case_id</th>\n",
       "      <th></th>\n",
       "      <th></th>\n",
       "      <th></th>\n",
       "      <th></th>\n",
       "      <th></th>\n",
       "      <th></th>\n",
       "      <th></th>\n",
       "      <th></th>\n",
       "    </tr>\n",
       "  </thead>\n",
       "  <tbody>\n",
       "    <tr>\n",
       "      <th>A</th>\n",
       "      <td>2641.0</td>\n",
       "      <td>2627.527452</td>\n",
       "      <td>1594.586629</td>\n",
       "      <td>170.0</td>\n",
       "      <td>1549.0</td>\n",
       "      <td>2294.0</td>\n",
       "      <td>3259.0</td>\n",
       "      <td>12921.0</td>\n",
       "    </tr>\n",
       "    <tr>\n",
       "      <th>B</th>\n",
       "      <td>2629.0</td>\n",
       "      <td>1967.121719</td>\n",
       "      <td>1698.264773</td>\n",
       "      <td>1.0</td>\n",
       "      <td>800.0</td>\n",
       "      <td>1500.0</td>\n",
       "      <td>2500.0</td>\n",
       "      <td>12100.0</td>\n",
       "    </tr>\n",
       "  </tbody>\n",
       "</table>\n",
       "</div>"
      ],
      "text/plain": [
       "          count         mean          std    min     25%     50%     75%  \\\n",
       "case_id                                                                    \n",
       "A        2641.0  2627.527452  1594.586629  170.0  1549.0  2294.0  3259.0   \n",
       "B        2629.0  1967.121719  1698.264773    1.0   800.0  1500.0  2500.0   \n",
       "\n",
       "             max  \n",
       "case_id           \n",
       "A        12921.0  \n",
       "B        12100.0  "
      ]
     },
     "execution_count": 74,
     "metadata": {},
     "output_type": "execute_result"
    }
   ],
   "source": [
    "df_test[(df_test.pay_status == 30) & (df_test.price > 0)].groupby('case_id').price.describe()"
   ]
  },
  {
   "cell_type": "code",
   "execution_count": 45,
   "id": "7510b750",
   "metadata": {},
   "outputs": [
    {
     "data": {
      "text/plain": [
       "(array([ 557., 1084.,  612.,  213.,   99.,   40.,   19.,    8.,    4.,\n",
       "           5.]),\n",
       " array([  170. ,  1445.1,  2720.2,  3995.3,  5270.4,  6545.5,  7820.6,\n",
       "         9095.7, 10370.8, 11645.9, 12921. ]),\n",
       " <BarContainer object of 10 artists>)"
      ]
     },
     "execution_count": 45,
     "metadata": {},
     "output_type": "execute_result"
    },
    {
     "data": {
      "image/png": "[encoded data removed]",
      "text/plain": [
       "<Figure size 640x480 with 1 Axes>"
      ]
     },
     "metadata": {},
     "output_type": "display_data"
    }
   ],
   "source": [
    "plt.hist(df_test[(df_test.pay_status == 30) & (df_test.price > 0) & (df_test.case_id == 'A')].price)"
   ]
  },
  {
   "cell_type": "code",
   "execution_count": 46,
   "id": "6c52dde5",
   "metadata": {},
   "outputs": [
    {
     "data": {
      "text/plain": [
       "(array([1082.,  867.,  330.,  159.,   93.,   56.,   22.,   12.,    6.,\n",
       "           2.]),\n",
       " array([1.00000e+00, 1.21090e+03, 2.42080e+03, 3.63070e+03, 4.84060e+03,\n",
       "        6.05050e+03, 7.26040e+03, 8.47030e+03, 9.68020e+03, 1.08901e+04,\n",
       "        1.21000e+04]),\n",
       " <BarContainer object of 10 artists>)"
      ]
     },
     "execution_count": 46,
     "metadata": {},
     "output_type": "execute_result"
    },
    {
     "data": {
      "image/png": "[encoded data removed]",
      "text/plain": [
       "<Figure size 640x480 with 1 Axes>"
      ]
     },
     "metadata": {},
     "output_type": "display_data"
    }
   ],
   "source": [
    "plt.hist(df_test[(df_test.pay_status == 30) & (df_test.price > 0) & (df_test.case_id == 'B')].price)"
   ]
  },
  {
   "cell_type": "code",
   "execution_count": 145,
   "id": "5bfc0c0c",
   "metadata": {},
   "outputs": [
    {
     "data": {
      "text/html": [
       "<div>\n",
       "<style scoped>\n",
       "    .dataframe tbody tr th:only-of-type {\n",
       "        vertical-align: middle;\n",
       "    }\n",
       "\n",
       "    .dataframe tbody tr th {\n",
       "        vertical-align: top;\n",
       "    }\n",
       "\n",
       "    .dataframe thead th {\n",
       "        text-align: right;\n",
       "    }\n",
       "</style>\n",
       "<table border=\"1\" class=\"dataframe\">\n",
       "  <thead>\n",
       "    <tr style=\"text-align: right;\">\n",
       "      <th></th>\n",
       "      <th>uid</th>\n",
       "      <th>case_id</th>\n",
       "      <th>received</th>\n",
       "      <th>price</th>\n",
       "      <th>pay_status</th>\n",
       "      <th>order_id</th>\n",
       "      <th>add_dt_day</th>\n",
       "    </tr>\n",
       "  </thead>\n",
       "  <tbody>\n",
       "    <tr>\n",
       "      <th>15</th>\n",
       "      <td>576c9aee857f9f523bd81ae46bc6ae2d5101669bc59ff8...</td>\n",
       "      <td>A</td>\n",
       "      <td>2018-08-09 11:14:59</td>\n",
       "      <td>869.0</td>\n",
       "      <td>30.0</td>\n",
       "      <td>14235711.0</td>\n",
       "      <td>2018-08-09</td>\n",
       "    </tr>\n",
       "    <tr>\n",
       "      <th>21</th>\n",
       "      <td>71f91a6261d92ff905b4572e6baa15f2c44d1eb355fcda...</td>\n",
       "      <td>A</td>\n",
       "      <td>2018-08-13 18:51:14</td>\n",
       "      <td>1504.0</td>\n",
       "      <td>30.0</td>\n",
       "      <td>NaN</td>\n",
       "      <td>2018-08-13</td>\n",
       "    </tr>\n",
       "    <tr>\n",
       "      <th>28</th>\n",
       "      <td>3723a809e73af6b5bfa0114be30590e6175ca4529d73e8...</td>\n",
       "      <td>A</td>\n",
       "      <td>2018-08-20 19:57:08</td>\n",
       "      <td>1809.0</td>\n",
       "      <td>30.0</td>\n",
       "      <td>14380813.0</td>\n",
       "      <td>2018-08-20</td>\n",
       "    </tr>\n",
       "    <tr>\n",
       "      <th>29</th>\n",
       "      <td>ac45ad37992a0ccc55d23e0b935686590004310caa2393...</td>\n",
       "      <td>A</td>\n",
       "      <td>2018-08-14 22:48:42</td>\n",
       "      <td>2857.0</td>\n",
       "      <td>30.0</td>\n",
       "      <td>14305468.0</td>\n",
       "      <td>2018-08-10</td>\n",
       "    </tr>\n",
       "    <tr>\n",
       "      <th>32</th>\n",
       "      <td>1750e9320ea9142b15c568504600c605f6279d2760b89f...</td>\n",
       "      <td>A</td>\n",
       "      <td>2018-08-10 10:24:35</td>\n",
       "      <td>4566.0</td>\n",
       "      <td>30.0</td>\n",
       "      <td>NaN</td>\n",
       "      <td>2018-08-10</td>\n",
       "    </tr>\n",
       "    <tr>\n",
       "      <th>...</th>\n",
       "      <td>...</td>\n",
       "      <td>...</td>\n",
       "      <td>...</td>\n",
       "      <td>...</td>\n",
       "      <td>...</td>\n",
       "      <td>...</td>\n",
       "      <td>...</td>\n",
       "    </tr>\n",
       "    <tr>\n",
       "      <th>45225</th>\n",
       "      <td>9aa5fe7c9949edf008d0aa33aee8f6ba17aaa3789afb8a...</td>\n",
       "      <td>B</td>\n",
       "      <td>2018-08-15 13:27:51</td>\n",
       "      <td>3900.0</td>\n",
       "      <td>30.0</td>\n",
       "      <td>14312130.0</td>\n",
       "      <td>2018-08-15</td>\n",
       "    </tr>\n",
       "    <tr>\n",
       "      <th>45241</th>\n",
       "      <td>34a840dbfa0b71e13818c1ec4f7ff5e3ec387f8aa706fe...</td>\n",
       "      <td>B</td>\n",
       "      <td>2018-08-14 18:26:28</td>\n",
       "      <td>1700.0</td>\n",
       "      <td>30.0</td>\n",
       "      <td>14302775.0</td>\n",
       "      <td>2018-08-14</td>\n",
       "    </tr>\n",
       "    <tr>\n",
       "      <th>45244</th>\n",
       "      <td>502705488802cfe512a11c5e441aefdcba75b50b7dabd7...</td>\n",
       "      <td>B</td>\n",
       "      <td>2018-08-20 15:57:37</td>\n",
       "      <td>7200.0</td>\n",
       "      <td>30.0</td>\n",
       "      <td>14376938.0</td>\n",
       "      <td>2018-08-20</td>\n",
       "    </tr>\n",
       "    <tr>\n",
       "      <th>45250</th>\n",
       "      <td>64013cd69ee8b3cd638fdec25862f68cfce1c06c145319...</td>\n",
       "      <td>B</td>\n",
       "      <td>2018-08-11 12:50:27</td>\n",
       "      <td>3000.0</td>\n",
       "      <td>30.0</td>\n",
       "      <td>NaN</td>\n",
       "      <td>2018-08-11</td>\n",
       "    </tr>\n",
       "    <tr>\n",
       "      <th>45252</th>\n",
       "      <td>1253a8632e58ab46ffb8f089b72c2a46e03502716e3f15...</td>\n",
       "      <td>B</td>\n",
       "      <td>2018-08-19 12:45:01</td>\n",
       "      <td>1150.0</td>\n",
       "      <td>30.0</td>\n",
       "      <td>14360407.0</td>\n",
       "      <td>2018-08-19</td>\n",
       "    </tr>\n",
       "  </tbody>\n",
       "</table>\n",
       "<p>5275 rows × 7 columns</p>\n",
       "</div>"
      ],
      "text/plain": [
       "                                                     uid case_id  \\\n",
       "15     576c9aee857f9f523bd81ae46bc6ae2d5101669bc59ff8...       A   \n",
       "21     71f91a6261d92ff905b4572e6baa15f2c44d1eb355fcda...       A   \n",
       "28     3723a809e73af6b5bfa0114be30590e6175ca4529d73e8...       A   \n",
       "29     ac45ad37992a0ccc55d23e0b935686590004310caa2393...       A   \n",
       "32     1750e9320ea9142b15c568504600c605f6279d2760b89f...       A   \n",
       "...                                                  ...     ...   \n",
       "45225  9aa5fe7c9949edf008d0aa33aee8f6ba17aaa3789afb8a...       B   \n",
       "45241  34a840dbfa0b71e13818c1ec4f7ff5e3ec387f8aa706fe...       B   \n",
       "45244  502705488802cfe512a11c5e441aefdcba75b50b7dabd7...       B   \n",
       "45250  64013cd69ee8b3cd638fdec25862f68cfce1c06c145319...       B   \n",
       "45252  1253a8632e58ab46ffb8f089b72c2a46e03502716e3f15...       B   \n",
       "\n",
       "                 received   price  pay_status    order_id add_dt_day  \n",
       "15    2018-08-09 11:14:59   869.0        30.0  14235711.0 2018-08-09  \n",
       "21    2018-08-13 18:51:14  1504.0        30.0         NaN 2018-08-13  \n",
       "28    2018-08-20 19:57:08  1809.0        30.0  14380813.0 2018-08-20  \n",
       "29    2018-08-14 22:48:42  2857.0        30.0  14305468.0 2018-08-10  \n",
       "32    2018-08-10 10:24:35  4566.0        30.0         NaN 2018-08-10  \n",
       "...                   ...     ...         ...         ...        ...  \n",
       "45225 2018-08-15 13:27:51  3900.0        30.0  14312130.0 2018-08-15  \n",
       "45241 2018-08-14 18:26:28  1700.0        30.0  14302775.0 2018-08-14  \n",
       "45244 2018-08-20 15:57:37  7200.0        30.0  14376938.0 2018-08-20  \n",
       "45250 2018-08-11 12:50:27  3000.0        30.0         NaN 2018-08-11  \n",
       "45252 2018-08-19 12:45:01  1150.0        30.0  14360407.0 2018-08-19  \n",
       "\n",
       "[5275 rows x 7 columns]"
      ]
     },
     "execution_count": 145,
     "metadata": {},
     "output_type": "execute_result"
    }
   ],
   "source": [
    "df_test[(df_test.pay_status == 30)]"
   ]
  },
  {
   "cell_type": "markdown",
   "id": "384e6452",
   "metadata": {},
   "source": [
    "Стоимость заказов в тестовой группе ниже, чем в контроьлной группе. Это видно и по средним показателям и по распределению цены  "
   ]
  },
  {
   "cell_type": "markdown",
   "id": "fb516cd5",
   "metadata": {},
   "source": [
    "На основании этих данных можем считать AB тест неуспешным, так как мы подтвердили нулевую гипотезу. "
   ]
  },
  {
   "cell_type": "code",
   "execution_count": 154,
   "id": "2943e92a",
   "metadata": {},
   "outputs": [
    {
     "name": "stderr",
     "output_type": "stream",
     "text": [
      "/var/folders/9k/0q1vb1ws2g37rwtkrg8cnh7c0000gn/T/ipykernel_977/204255950.py:4: UserWarning: Boolean Series key will be reindexed to match DataFrame index.\n",
      "  df_a = df_test.query(\"case_id=='A'\")[(df_test.pay_status == 30) & (df_test.price >= 0)].price\n",
      "/var/folders/9k/0q1vb1ws2g37rwtkrg8cnh7c0000gn/T/ipykernel_977/204255950.py:5: UserWarning: Boolean Series key will be reindexed to match DataFrame index.\n",
      "  df_b = df_test.query(\"case_id=='B'\")[(df_test.pay_status == 30) & (df_test.price >= 0)].price\n"
     ]
    }
   ],
   "source": [
    "N = 1500\n",
    "a_price_mean = np.array(np.zeros(N))\n",
    "b_price_mean = np.array(np.zeros(N))\n",
    "df_a = df_test.query(\"case_id=='A'\")[(df_test.pay_status == 30) & (df_test.price >= 0)].price\n",
    "df_b = df_test.query(\"case_id=='B'\")[(df_test.pay_status == 30) & (df_test.price >= 0)].price\n",
    "len_a = len(df_a)\n",
    "len_b = len(df_b)"
   ]
  },
  {
   "cell_type": "code",
   "execution_count": 155,
   "id": "db27dbaa",
   "metadata": {},
   "outputs": [],
   "source": [
    "for i in range(0, N):\n",
    "    sample_a = random.choices(list(df_a), k = len_a)\n",
    "    sample_b = random.choices(list(df_b), k = len_b)\n",
    "    a_price_mean[i] = np.mean(sample_a)\n",
    "    b_price_mean[i] = np.mean(sample_b)   "
   ]
  },
  {
   "cell_type": "code",
   "execution_count": 158,
   "id": "6e0886f6",
   "metadata": {},
   "outputs": [
    {
     "data": {
      "text/plain": [
       "<matplotlib.legend.Legend at 0x7f9784698f70>"
      ]
     },
     "execution_count": 158,
     "metadata": {},
     "output_type": "execute_result"
    },
    {
     "data": {
      "image/png": "[encoded data removed]",
      "text/plain": [
       "<Figure size 1200x800 with 1 Axes>"
      ]
     },
     "metadata": {},
     "output_type": "display_data"
    }
   ],
   "source": [
    "sns.set_theme()\n",
    "fig, ax = plt.subplots(figsize = (12, 8))\n",
    "sns.histplot(a_price_mean, ax=ax, label = 'A', color='salmon', bins = 20)\n",
    "sns.histplot(b_price_mean, ax=ax, label = 'B', color='skyblue', bins = 20)\n",
    "ax.axvline(np.percentile(a_price_mean, 2.5), color = 'r', linestyle = '--', )\n",
    "ax.axvline(np.percentile(a_price_mean, 97.5), color = 'g', linestyle = '--', )\n",
    "ax.axvline(np.percentile(b_price_mean, 2.5), color = 'r', linestyle = '--', )\n",
    "ax.axvline(np.percentile(b_price_mean, 97.5), color = 'g', linestyle = '--', )\n",
    "\n",
    "plt.legend()"
   ]
  },
  {
   "cell_type": "code",
   "execution_count": 163,
   "id": "2122ee32",
   "metadata": {},
   "outputs": [],
   "source": [
    "mean_diff = np.array(np.zeros(N))\n",
    "for i in range(0, N):\n",
    "    a_sample = df_a.sample(100)\n",
    "    b_sample = df_b.sample(100)\n",
    "    mean_diff[i] = np.mean(b_sample) - np.mean(a_sample)\n",
    "    "
   ]
  },
  {
   "cell_type": "code",
   "execution_count": 164,
   "id": "fbd39dc9",
   "metadata": {},
   "outputs": [
    {
     "data": {
      "text/plain": [
       "<AxesSubplot:ylabel='Count'>"
      ]
     },
     "execution_count": 164,
     "metadata": {},
     "output_type": "execute_result"
    },
    {
     "data": {
      "image/png": "[encoded data removed]",
      "text/plain": [
       "<Figure size 1200x700 with 1 Axes>"
      ]
     },
     "metadata": {},
     "output_type": "display_data"
    }
   ],
   "source": [
    "fig, ax = plt.subplots(figsize = (12, 7))\n",
    "sns.histplot(mean_diff, ax = ax)"
   ]
  }
 ],
 "metadata": {
  "kernelspec": {
   "display_name": "Python 3 (ipykernel)",
   "language": "python",
   "name": "python3"
  },
  "language_info": {
   "codemirror_mode": {
    "name": "ipython",
    "version": 3
   },
   "file_extension": ".py",
   "mimetype": "text/x-python",
   "name": "python",
   "nbconvert_exporter": "python",
   "pygments_lexer": "ipython3",
   "version": "3.9.13"
  }
 },
 "nbformat": 4,
 "nbformat_minor": 5
}
