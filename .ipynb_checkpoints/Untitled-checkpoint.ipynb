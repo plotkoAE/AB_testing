{
 "cells": [
  {
   "cell_type": "markdown",
   "id": "83942af3",
   "metadata": {},
   "source": [
    "Файл conversion.csv содержит данные для АВ-тестирования, проводимого с целью понять, приводит ли переход к новому типу меню к увеличению конверсии сайта.\n",
    "Столбцы содержат значения 0 и 1, где 1 соответствует пользователю, который кликнул на меню и продолжил знакомство с сайтом, 0 – пользователю, который не стал продолжать знакомство с сайтом. Столбец OLD соответствует сайту со старым меню, а столбец NEW – сайту с новым меню."
   ]
  },
  {
   "cell_type": "markdown",
   "id": "ecb95133",
   "metadata": {},
   "source": [
    "1. Используя Python, реализуйте статистический тест для сравнения двух долей, предполагая, что альтернативная гипотеза является правосторонней.\n",
    "2. Сравните значения p-value, полученные в R и Python. Велика ли разница между ними? Влияет ли различие (если оно есть) на статистический вывод?\n",
    "3. По результатам проверки гипотезы о равенстве долей, сделайте статистический и содержательный вывод."
   ]
  },
  {
   "cell_type": "code",
   "execution_count": 4,
   "id": "78933f07",
   "metadata": {},
   "outputs": [],
   "source": [
    "import numpy as np\n",
    "import pandas as pd\n",
    "from statsmodels.stats.proportion import proportions_ztest"
   ]
  },
  {
   "cell_type": "code",
   "execution_count": 5,
   "id": "dd0d81a4",
   "metadata": {},
   "outputs": [],
   "source": [
    "df = pd.read_csv('6.7_conversion.csv')"
   ]
  },
  {
   "cell_type": "code",
   "execution_count": 10,
   "id": "4d4a2e94",
   "metadata": {},
   "outputs": [
    {
     "name": "stdout",
     "output_type": "stream",
     "text": [
      "74 580\n",
      "800 800\n"
     ]
    }
   ],
   "source": [
    "ns1 = sum(df['OLD'])\n",
    "ns2 = sum(df['NEW'])\n",
    "\n",
    "ls1 = len(df['OLD'])\n",
    "ls2 = len(df['NEW'])\n",
    "print(ns1, ns2)\n",
    "print(ls1, ls2)"
   ]
  },
  {
   "cell_type": "code",
   "execution_count": 14,
   "id": "dfbc46e8",
   "metadata": {},
   "outputs": [],
   "source": [
    "stat, p_value = proportions_ztest(np.array([ns2, ns1]), np.array([ls2, ls1]))"
   ]
  },
  {
   "cell_type": "code",
   "execution_count": 17,
   "id": "06c00b12",
   "metadata": {},
   "outputs": [
    {
     "data": {
      "text/plain": [
       "2.5535397372869267e-146"
      ]
     },
     "execution_count": 17,
     "metadata": {},
     "output_type": "execute_result"
    }
   ],
   "source": [
    "p_value/2"
   ]
  },
  {
   "cell_type": "markdown",
   "id": "4fda901e",
   "metadata": {},
   "source": [
    "По итогу мы получили p-value очень близкое к нулю. Это означает, что со степенью значимости в 5% мы можем опровергнкть нулевую гипотезу о том, что конверсия сайта не изменилась, на текущих данных. \n",
    "\n",
    "Таким образом мы делаем вывод о том, что конверсия сайта увеличилась с переходом на новый тип меню"
   ]
  }
 ],
 "metadata": {
  "kernelspec": {
   "display_name": "Python 3 (ipykernel)",
   "language": "python",
   "name": "python3"
  },
  "language_info": {
   "codemirror_mode": {
    "name": "ipython",
    "version": 3
   },
   "file_extension": ".py",
   "mimetype": "text/x-python",
   "name": "python",
   "nbconvert_exporter": "python",
   "pygments_lexer": "ipython3",
   "version": "3.9.13"
  }
 },
 "nbformat": 4,
 "nbformat_minor": 5
}
